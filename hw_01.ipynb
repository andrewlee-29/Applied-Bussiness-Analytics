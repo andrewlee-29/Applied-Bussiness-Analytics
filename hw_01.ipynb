{
  "cells": [
    {
      "cell_type": "markdown",
      "metadata": {
        "id": "viyfIuYydfpP"
      },
      "source": [
        "The dataset describes the wine cellar of a prestigious wine collector in the greater Boston metropolitan area. The collector would like your analysis of their collection (the data) through the lens of descriptive statistics.\n"
      ]
    },
    {
      "cell_type": "markdown",
      "metadata": {
        "id": "Jv7JCydQ9VM6"
      },
      "source": [
        "# New Section"
      ]
    },
    {
      "cell_type": "code",
      "execution_count": 1,
      "metadata": {
        "colab": {
          "base_uri": "https://localhost:8080/"
        },
        "id": "y9IdqutmdfpU",
        "outputId": "da7b0f85-c629-4487-ce9b-dc1d1461e96b"
      },
      "outputs": [
        {
          "name": "stdout",
          "output_type": "stream",
          "text": [
            "   Class  Alcohol  Malic acid   Ash  Alcalinity of ash  Magnesium  \\\n",
            "0      1    14.23        1.71  2.43               15.6        127   \n",
            "1      1    13.20        1.78  2.14               11.2        100   \n",
            "2      1    13.16        2.36  2.67               18.6        101   \n",
            "3      1    14.37        1.95  2.50               16.8        113   \n",
            "4      1    13.24        2.59  2.87               21.0        118   \n",
            "\n",
            "   Total phenols  Flavanoids  Nonflavanoid phenols  Proanthocyanins  \\\n",
            "0           2.80        3.06                  0.28             2.29   \n",
            "1           2.65        2.76                  0.26             1.28   \n",
            "2           2.80        3.24                  0.30             2.81   \n",
            "3           3.85        3.49                  0.24             2.18   \n",
            "4           2.80        2.69                  0.39             1.82   \n",
            "\n",
            "   Color intensity   Hue  OD280/OD315 of diluted wines  price_usd  \n",
            "0             5.64  1.04                          3.92       1065  \n",
            "1             4.38  1.05                          3.40       1050  \n",
            "2             5.68  1.03                          3.17       1185  \n",
            "3             7.80  0.86                          3.45       1480  \n",
            "4             4.32  1.04                          2.93        735  \n",
            "Index(['Class', 'Alcohol', 'Malic acid', 'Ash', 'Alcalinity of ash',\n",
            "       'Magnesium', 'Total phenols', 'Flavanoids', 'Nonflavanoid phenols',\n",
            "       'Proanthocyanins', 'Color intensity', 'Hue',\n",
            "       'OD280/OD315 of diluted wines', 'price_usd'],\n",
            "      dtype='object')\n"
          ]
        }
      ],
      "source": [
        "import pandas as pd\n",
        "\n",
        "# import data from csv\n",
        "\n",
        "df = pd.read_csv('./dataset/wentworth_applied_analytics - wine.csv.csv')\n",
        "\n",
        "print(df.head())\n",
        "print(df.columns)\n"
      ]
    },
    {
      "cell_type": "markdown",
      "metadata": {
        "id": "8HecoPq9DHtY"
      },
      "source": [
        "I uploaded the wine.csv data to the google drive and used pandas(python) to load the data. From the head of the data, it seems all the data type for the column is continuous data except \"class\"."
      ]
    },
    {
      "cell_type": "code",
      "execution_count": 2,
      "metadata": {
        "colab": {
          "base_uri": "https://localhost:8080/"
        },
        "id": "1N8ftyBUeZus",
        "outputId": "5cb41f39-d8dd-4934-bfed-a4e4e7ee366a"
      },
      "outputs": [
        {
          "name": "stdout",
          "output_type": "stream",
          "text": [
            "[1 2 3]\n"
          ]
        }
      ],
      "source": [
        "print(df.Class.unique())"
      ]
    },
    {
      "cell_type": "markdown",
      "metadata": {
        "id": "X10vGgjfvRfw"
      },
      "source": [
        "I found out there is only 3 unique value in the attribute and we can confimred it is categorical data. The rest are continuous data. Let's look at all other 12 features distrubtion of the data:"
      ]
    },
    {
      "cell_type": "code",
      "execution_count": 53,
      "metadata": {
        "colab": {
          "base_uri": "https://localhost:8080/",
          "height": 382
        },
        "id": "yFHBppqKdlzn",
        "outputId": "b2e52cbf-d5bc-41ed-f09b-2d0d4734cf39"
      },
      "outputs": [
        {
          "name": "stdout",
          "output_type": "stream",
          "text": [
            "Mean: 13.00061797752809\n",
            "Mode: 12.37\n",
            "Median: 13.05\n",
            "Min: 11.03\n",
            "Max: 14.83\n"
          ]
        },
        {
          "data": {
            "image/png": "[encoded data removed]",
            "text/plain": [
              "<Figure size 432x288 with 1 Axes>"
            ]
          },
          "metadata": {
            "needs_background": "light"
          },
          "output_type": "display_data"
        }
      ],
      "source": [
        "import matplotlib.pyplot as plt\n",
        "\n",
        "hist_df = df[\"Alcohol\"]\n",
        "mean = hist_df.mean()\n",
        "mode = hist_df.mode()[0]\n",
        "median = hist_df.median()\n",
        "min = hist_df.min()\n",
        "max = hist_df.max()\n",
        "print(\"Mean:\",mean)\n",
        "print(\"Mode:\",mode)\n",
        "print(\"Median:\",median)\n",
        "print(\"Min:\",min)\n",
        "print(\"Max:\",max)\n",
        "\n",
        "plt.hist(hist_df,bins=10)\n",
        "plt.xlabel(\"Data values\")\n",
        "plt.ylabel(\"Frequency\")\n",
        "plt.title(\"Alcohol\")\n",
        "plt.axvline(x = mean, color = 'r', label = 'mean')\n",
        "plt.axvline(x = mode, color = 'b', label = 'mode')\n",
        "plt.axvline(x = median, color = 'g', label = 'median')\n",
        "plt.show()"
      ]
    },
    {
      "cell_type": "markdown",
      "metadata": {
        "id": "CQUNhMevW8tD"
      },
      "source": [
        "Looking at the historgram of the Alcohol feature, the range is 11.03 to 14.83 and is sightly positive skew."
      ]
    },
    {
      "cell_type": "code",
      "execution_count": 54,
      "metadata": {
        "colab": {
          "base_uri": "https://localhost:8080/",
          "height": 382
        },
        "id": "v0WumbAbdfpV",
        "outputId": "0f1c2d53-d5fd-4a25-953a-631f578e0830"
      },
      "outputs": [
        {
          "name": "stdout",
          "output_type": "stream",
          "text": [
            "Mean: 2.3363483146067416\n",
            "Mode: 1.73\n",
            "Median: 1.8650000000000002\n",
            "Min: 0.74\n",
            "Max: 5.8\n"
          ]
        },
        {
          "data": {
            "image/png": "[encoded data removed]",
            "text/plain": [
              "<Figure size 432x288 with 1 Axes>"
            ]
          },
          "metadata": {
            "needs_background": "light"
          },
          "output_type": "display_data"
        }
      ],
      "source": [
        "hist_df = df[\"Malic acid\"]\n",
        "mean = hist_df.mean()\n",
        "mode = hist_df.mode()[0]\n",
        "median = hist_df.median()\n",
        "min = hist_df.min()\n",
        "max = hist_df.max()\n",
        "print(\"Mean:\",mean)\n",
        "print(\"Mode:\",mode)\n",
        "print(\"Median:\",median)\n",
        "print(\"Min:\",min)\n",
        "print(\"Max:\",max)\n",
        "\n",
        "\n",
        "plt.hist(hist_df,bins=7)\n",
        "plt.xlabel(\"Data values\")\n",
        "plt.ylabel(\"Frequency\")\n",
        "plt.title(\"Malic acid\")\n",
        "plt.axvline(x = mean, color = 'r', label = 'mean')\n",
        "plt.axvline(x = mode, color = 'b', label = 'mode')\n",
        "plt.axvline(x = median, color = 'g', label = 'median')\n",
        "plt.show()"
      ]
    },
    {
      "cell_type": "markdown",
      "metadata": {
        "id": "1q3th2b1cgkB"
      },
      "source": [
        "Looking at the historgram of th eMalic acid, the range is 0.74 to 5.8 and is  positive skew."
      ]
    },
    {
      "cell_type": "code",
      "execution_count": 65,
      "metadata": {
        "colab": {
          "base_uri": "https://localhost:8080/",
          "height": 382
        },
        "id": "hPEvoTGHVQy_",
        "outputId": "7041ec08-2f37-4054-bf60-b1757c50870d"
      },
      "outputs": [
        {
          "name": "stdout",
          "output_type": "stream",
          "text": [
            "Mean: 2.3665168539325845\n",
            "Mode: 2.28\n",
            "Median: 2.36\n",
            "Min: 1.36\n",
            "Max: 3.23\n"
          ]
        },
        {
          "data": {
            "image/png": "[encoded data removed]",
            "text/plain": [
              "<Figure size 432x288 with 1 Axes>"
            ]
          },
          "metadata": {
            "needs_background": "light"
          },
          "output_type": "display_data"
        }
      ],
      "source": [
        "hist_df = df[\"Ash\"]\n",
        "mean = hist_df.mean()\n",
        "mode = hist_df.mode()[0]\n",
        "median = hist_df.median()\n",
        "min = hist_df.min()\n",
        "max = hist_df.max()\n",
        "print(\"Mean:\",mean)\n",
        "print(\"Mode:\",mode)\n",
        "print(\"Median:\",median)\n",
        "print(\"Min:\",min)\n",
        "print(\"Max:\",max)\n",
        "\n",
        "\n",
        "plt.hist(hist_df,bins=10)\n",
        "plt.xlabel(\"Data values\")\n",
        "plt.ylabel(\"Frequency\")\n",
        "plt.title(\"Ash\")\n",
        "plt.axvline(x = mean, color = 'r', label = 'mean')\n",
        "plt.axvline(x = mode, color = 'b', label = 'mode')\n",
        "plt.axvline(x = median, color = 'g', label = 'median')\n",
        "plt.show()"
      ]
    },
    {
      "cell_type": "markdown",
      "metadata": {
        "id": "lBFM6XJldAd-"
      },
      "source": [
        "Looking at the historgram of th Ash, the range is 1.36 to 3.23 and is mostly normal distributed."
      ]
    },
    {
      "cell_type": "code",
      "execution_count": 56,
      "metadata": {
        "colab": {
          "base_uri": "https://localhost:8080/",
          "height": 382
        },
        "id": "ZPqPHqdKVSQa",
        "outputId": "055f4577-1125-4727-c207-adf393dd6861"
      },
      "outputs": [
        {
          "name": "stdout",
          "output_type": "stream",
          "text": [
            "Mean: 99.74157303370787\n",
            "Mode: 88\n",
            "Median: 98.0\n",
            "Min: 70\n",
            "Max: 162\n"
          ]
        },
        {
          "data": {
            "image/png": "[encoded data removed]",
            "text/plain": [
              "<Figure size 432x288 with 1 Axes>"
            ]
          },
          "metadata": {
            "needs_background": "light"
          },
          "output_type": "display_data"
        }
      ],
      "source": [
        "hist_df = df[\"Magnesium\"]\n",
        "mean = hist_df.mean()\n",
        "mode = hist_df.mode()[0]\n",
        "median = hist_df.median()\n",
        "min = hist_df.min()\n",
        "max = hist_df.max()\n",
        "print(\"Mean:\",mean)\n",
        "print(\"Mode:\",mode)\n",
        "print(\"Median:\",median)\n",
        "print(\"Min:\",min)\n",
        "print(\"Max:\",max)\n",
        "\n",
        "\n",
        "plt.hist(hist_df,bins=7)\n",
        "plt.xlabel(\"Data values\")\n",
        "plt.ylabel(\"Frequency\")\n",
        "plt.title(\"Magnesium\")\n",
        "plt.axvline(x = mean, color = 'r', label = 'mean')\n",
        "plt.axvline(x = mode, color = 'b', label = 'mode')\n",
        "plt.axvline(x = median, color = 'g', label = 'median')\n",
        "plt.show()"
      ]
    },
    {
      "cell_type": "markdown",
      "metadata": {
        "id": "vIgz3L5adl0F"
      },
      "source": [
        "Looking at the historgram of th Magnesium, the range is 70 to 162 and is  positive skewed."
      ]
    },
    {
      "cell_type": "code",
      "execution_count": 57,
      "metadata": {
        "colab": {
          "base_uri": "https://localhost:8080/",
          "height": 382
        },
        "id": "OEfnXpBdVSeK",
        "outputId": "a4a90936-472d-4c28-8aa5-c1875ea1d4f8"
      },
      "outputs": [
        {
          "name": "stdout",
          "output_type": "stream",
          "text": [
            "Mean: 2.295112359550562\n",
            "Mode: 2.2\n",
            "Median: 2.355\n",
            "Min: 0.98\n",
            "Max: 3.88\n"
          ]
        },
        {
          "data": {
            "image/png": "[encoded data removed]",
            "text/plain": [
              "<Figure size 432x288 with 1 Axes>"
            ]
          },
          "metadata": {
            "needs_background": "light"
          },
          "output_type": "display_data"
        }
      ],
      "source": [
        "hist_df = df[\"Total phenols\"]\n",
        "mean = hist_df.mean()\n",
        "mode = hist_df.mode()[0]\n",
        "median = hist_df.median()\n",
        "min = hist_df.min()\n",
        "max = hist_df.max()\n",
        "print(\"Mean:\",mean)\n",
        "print(\"Mode:\",mode)\n",
        "print(\"Median:\",median)\n",
        "print(\"Min:\",min)\n",
        "print(\"Max:\",max)\n",
        "\n",
        "plt.hist(hist_df,bins=7)\n",
        "plt.xlabel(\"Data values\")\n",
        "plt.ylabel(\"Frequency\")\n",
        "plt.title(\"Total phenols\")\n",
        "plt.axvline(x = mean, color = 'r', label = 'mean')\n",
        "plt.axvline(x = mode, color = 'b', label = 'mode')\n",
        "plt.axvline(x = median, color = 'g', label = 'median')\n",
        "plt.show()"
      ]
    },
    {
      "cell_type": "markdown",
      "metadata": {
        "id": "LAHtQCardz5d"
      },
      "source": [
        "Looking at the Total phenols feature, the range of the data is 0.98 and 3.88 and shape is uniform"
      ]
    },
    {
      "cell_type": "code",
      "execution_count": 67,
      "metadata": {
        "colab": {
          "base_uri": "https://localhost:8080/",
          "height": 382
        },
        "id": "on2DUljnVSo2",
        "outputId": "113521f7-a7d9-4906-e964-158b15cc54f5"
      },
      "outputs": [
        {
          "name": "stdout",
          "output_type": "stream",
          "text": [
            "Mean: 2.0292696629213487\n",
            "Mode: 2.65\n",
            "Median: 2.135\n",
            "Min: 0.34\n",
            "Max: 5.08\n"
          ]
        },
        {
          "data": {
            "image/png": "[encoded data removed]",
            "text/plain": [
              "<Figure size 432x288 with 1 Axes>"
            ]
          },
          "metadata": {
            "needs_background": "light"
          },
          "output_type": "display_data"
        }
      ],
      "source": [
        "hist_df = df[\"Flavanoids\"]\n",
        "mean = hist_df.mean()\n",
        "mode = hist_df.mode()[0]\n",
        "median = hist_df.median()\n",
        "min = hist_df.min()\n",
        "max = hist_df.max()\n",
        "print(\"Mean:\",mean)\n",
        "print(\"Mode:\",mode)\n",
        "print(\"Median:\",median)\n",
        "print(\"Min:\",min)\n",
        "print(\"Max:\",max)\n",
        "\n",
        "\n",
        "\n",
        "plt.hist(hist_df,bins=10)\n",
        "plt.xlabel(\"Data values\")\n",
        "plt.ylabel(\"Frequency\")\n",
        "plt.title(\"Flavanoids\")\n",
        "plt.axvline(x = mean, color = 'r', label = 'mean')\n",
        "plt.axvline(x = mode, color = 'b', label = 'mode')\n",
        "plt.axvline(x = median, color = 'g', label = 'median')\n",
        "plt.show()"
      ]
    },
    {
      "cell_type": "markdown",
      "metadata": {
        "id": "DUvxZusM6GYk"
      },
      "source": [
        "Looking at the Flavanoids feature, the range of the data is 0.34 to 5.08 and shape is uniform."
      ]
    },
    {
      "cell_type": "code",
      "execution_count": 66,
      "metadata": {
        "colab": {
          "base_uri": "https://localhost:8080/",
          "height": 382
        },
        "id": "hX2q8OMyVSz2",
        "outputId": "41a4f25d-4618-45c0-a9e9-a4770c664ce6"
      },
      "outputs": [
        {
          "name": "stdout",
          "output_type": "stream",
          "text": [
            "Mean: 0.3618539325842696\n",
            "Mode: 0.26\n",
            "Median: 0.34\n",
            "Min: 0.13\n",
            "Max: 0.66\n"
          ]
        },
        {
          "data": {
            "image/png": "[encoded data removed]",
            "text/plain": [
              "<Figure size 432x288 with 1 Axes>"
            ]
          },
          "metadata": {
            "needs_background": "light"
          },
          "output_type": "display_data"
        }
      ],
      "source": [
        "hist_df = df[\"Nonflavanoid phenols\"]\n",
        "mean = hist_df.mean()\n",
        "mode = hist_df.mode()[0]\n",
        "median = hist_df.median()\n",
        "min = hist_df.min()\n",
        "max = hist_df.max()\n",
        "print(\"Mean:\",mean)\n",
        "print(\"Mode:\",mode)\n",
        "print(\"Median:\",median)\n",
        "print(\"Min:\",min)\n",
        "print(\"Max:\",max)\n",
        "\n",
        "\n",
        "plt.hist(hist_df,bins=7)\n",
        "plt.xlabel(\"Data values\")\n",
        "plt.ylabel(\"Frequency\")\n",
        "plt.title(\"Nonflavanoid phenols\")\n",
        "plt.axvline(x = mean, color = 'r', label = 'mean')\n",
        "plt.axvline(x = mode, color = 'b', label = 'mode')\n",
        "plt.axvline(x = median, color = 'g', label = 'median')\n",
        "plt.show()"
      ]
    },
    {
      "cell_type": "markdown",
      "metadata": {
        "id": "4y04ifGw8ob_"
      },
      "source": [
        "Looking at Nonflavanoid phenols feature, the range is 0.13 to 0.66 and the distribution is positive skewed."
      ]
    },
    {
      "cell_type": "code",
      "execution_count": 60,
      "metadata": {
        "colab": {
          "base_uri": "https://localhost:8080/",
          "height": 382
        },
        "id": "W1Li5c-PWJiJ",
        "outputId": "52d0f7d0-35d8-45dd-99bc-edb4cedbcf6e"
      },
      "outputs": [
        {
          "name": "stdout",
          "output_type": "stream",
          "text": [
            "Mean: 1.5908988764044945\n",
            "Mode: 1.35\n",
            "Median: 1.5550000000000002\n",
            "Min: 0.41\n",
            "Max: 3.58\n"
          ]
        },
        {
          "data": {
            "image/png": "[encoded data removed]",
            "text/plain": [
              "<Figure size 432x288 with 1 Axes>"
            ]
          },
          "metadata": {
            "needs_background": "light"
          },
          "output_type": "display_data"
        }
      ],
      "source": [
        "hist_df = df[\"Proanthocyanins\"]\n",
        "mean = hist_df.mean()\n",
        "mode = hist_df.mode()[0]\n",
        "median = hist_df.median()\n",
        "min = hist_df.min()\n",
        "max = hist_df.max()\n",
        "print(\"Mean:\",mean)\n",
        "print(\"Mode:\",mode)\n",
        "print(\"Median:\",median)\n",
        "print(\"Min:\",min)\n",
        "print(\"Max:\",max)\n",
        "\n",
        "\n",
        "plt.hist(hist_df,bins=7)\n",
        "plt.xlabel(\"Data values\")\n",
        "plt.ylabel(\"Frequency\")\n",
        "plt.title(\"Proanthocyanins\")\n",
        "plt.axvline(x = mean, color = 'r', label = 'mean')\n",
        "plt.axvline(x = mode, color = 'b', label = 'mode')\n",
        "plt.axvline(x = median, color = 'g', label = 'median')\n",
        "plt.show()"
      ]
    },
    {
      "cell_type": "markdown",
      "metadata": {
        "id": "c3JlyVN46YbY"
      },
      "source": [
        "Look at the Proanthocyanins feature, the range of the data is 0.41 to 3.58 and shape is sightly skewed."
      ]
    },
    {
      "cell_type": "code",
      "execution_count": 61,
      "metadata": {
        "colab": {
          "base_uri": "https://localhost:8080/",
          "height": 382
        },
        "id": "XIz510X-WKJi",
        "outputId": "6db56717-5e46-4c5e-cfdd-3a7cec295d75"
      },
      "outputs": [
        {
          "name": "stdout",
          "output_type": "stream",
          "text": [
            "Mean: 5.058089882022472\n",
            "Mode: 2.6\n",
            "Median: 4.6899999999999995\n",
            "Min: 1.28\n",
            "Max: 13.0\n"
          ]
        },
        {
          "data": {
            "image/png": "[encoded data removed]",
            "text/plain": [
              "<Figure size 432x288 with 1 Axes>"
            ]
          },
          "metadata": {
            "needs_background": "light"
          },
          "output_type": "display_data"
        }
      ],
      "source": [
        "hist_df = df[\"Color intensity\"]\n",
        "mean = hist_df.mean()\n",
        "mode = hist_df.mode()[0]\n",
        "median = hist_df.median()\n",
        "min = hist_df.min()\n",
        "max = hist_df.max()\n",
        "print(\"Mean:\",mean)\n",
        "print(\"Mode:\",mode)\n",
        "print(\"Median:\",median)\n",
        "print(\"Min:\",min)\n",
        "print(\"Max:\",max)\n",
        "\n",
        "\n",
        "\n",
        "plt.hist(hist_df,bins=7)\n",
        "plt.xlabel(\"Data values\")\n",
        "plt.ylabel(\"Frequency\")\n",
        "plt.title(\"Color intensity\")\n",
        "plt.axvline(x = mean, color = 'r', label = 'mean')\n",
        "plt.axvline(x = mode, color = 'b', label = 'mode')\n",
        "plt.axvline(x = median, color = 'g', label = 'median')\n",
        "plt.show()"
      ]
    },
    {
      "cell_type": "markdown",
      "metadata": {
        "id": "tlGiKORE61QW"
      },
      "source": [
        "Looking at Nonflavanoid phenols feature, the range is 0.13 to 0.66 and the distribution is positive skewed."
      ]
    },
    {
      "cell_type": "code",
      "execution_count": 62,
      "metadata": {
        "colab": {
          "base_uri": "https://localhost:8080/",
          "height": 382
        },
        "id": "TOZS1ZijWKUu",
        "outputId": "8b53ed75-1768-4ff3-a795-4ef7a05a99b1"
      },
      "outputs": [
        {
          "name": "stdout",
          "output_type": "stream",
          "text": [
            "Mean: 0.9574494382022471\n",
            "Mode: 1.04\n",
            "Median: 0.965\n",
            "Min: 0.48\n",
            "Max: 1.71\n"
          ]
        },
        {
          "data": {
            "image/png": "[encoded data removed]",
            "text/plain": [
              "<Figure size 432x288 with 1 Axes>"
            ]
          },
          "metadata": {
            "needs_background": "light"
          },
          "output_type": "display_data"
        }
      ],
      "source": [
        "hist_df = df[\"Hue\"]\n",
        "mean = hist_df.mean()\n",
        "mode = hist_df.mode()[0]\n",
        "median = hist_df.median()\n",
        "min = hist_df.min()\n",
        "max = hist_df.max()\n",
        "print(\"Mean:\",mean)\n",
        "print(\"Mode:\",mode)\n",
        "print(\"Median:\",median)\n",
        "print(\"Min:\",min)\n",
        "print(\"Max:\",max)\n",
        "\n",
        "\n",
        "plt.hist(hist_df,bins=7)\n",
        "plt.xlabel(\"Data values\")\n",
        "plt.ylabel(\"Frequency\")\n",
        "plt.title(\"Hue\")\n",
        "plt.axvline(x = mean, color = 'r', label = 'mean')\n",
        "plt.axvline(x = mode, color = 'b', label = 'mode')\n",
        "plt.axvline(x = median, color = 'g', label = 'median')\n",
        "plt.show()"
      ]
    },
    {
      "cell_type": "markdown",
      "metadata": {
        "id": "j-Q_F1MC-kbT"
      },
      "source": [
        "Looking at Hue phenols feature, the range is 0.48 to 1.71 and the distribution is sightly positive skewed."
      ]
    },
    {
      "cell_type": "code",
      "execution_count": 63,
      "metadata": {
        "colab": {
          "base_uri": "https://localhost:8080/",
          "height": 382
        },
        "id": "lR7e4J1WWNJM",
        "outputId": "57a26f20-3dc0-40de-c782-5da147920475"
      },
      "outputs": [
        {
          "name": "stdout",
          "output_type": "stream",
          "text": [
            "Mean: 2.6116853932584267\n",
            "Mode: 2.87\n",
            "Median: 2.78\n",
            "Min: 1.27\n",
            "Max: 4.0\n"
          ]
        },
        {
          "data": {
            "image/png": "[encoded data removed]",
            "text/plain": [
              "<Figure size 432x288 with 1 Axes>"
            ]
          },
          "metadata": {
            "needs_background": "light"
          },
          "output_type": "display_data"
        }
      ],
      "source": [
        "hist_df = df[\"OD280/OD315 of diluted wines\"]\n",
        "mean = hist_df.mean()\n",
        "mode = hist_df.mode()[0]\n",
        "median = hist_df.median()\n",
        "min = hist_df.min()\n",
        "max = hist_df.max()\n",
        "print(\"Mean:\",mean)\n",
        "print(\"Mode:\",mode)\n",
        "print(\"Median:\",median)\n",
        "print(\"Min:\",min)\n",
        "print(\"Max:\",max)\n",
        "\n",
        "\n",
        "plt.hist(hist_df,bins=7)\n",
        "plt.xlabel(\"Data values\")\n",
        "plt.ylabel(\"Frequency\")\n",
        "plt.title(\"OD280/OD315 of diluted wines\")\n",
        "plt.axvline(x = mean, color = 'r', label = 'mean')\n",
        "plt.axvline(x = mode, color = 'b', label = 'mode')\n",
        "plt.axvline(x = median, color = 'g', label = 'median')\n",
        "plt.show()"
      ]
    },
    {
      "cell_type": "markdown",
      "metadata": {
        "id": "gJCwEK-T-8aQ"
      },
      "source": [
        "Looking at OD315 of diluted wines phenols feature, the range is 1.27 to 4.0 and the distribution is uniform."
      ]
    },
    {
      "cell_type": "code",
      "execution_count": 64,
      "metadata": {
        "colab": {
          "base_uri": "https://localhost:8080/",
          "height": 382
        },
        "id": "aWa9zFH6WgYn",
        "outputId": "2d712cb7-8bd6-4937-d9d6-5206de457cda"
      },
      "outputs": [
        {
          "name": "stdout",
          "output_type": "stream",
          "text": [
            "Mean: 746.8932584269663\n",
            "Mode: 520\n",
            "Median: 673.5\n",
            "Min: 278\n",
            "Max: 1680\n"
          ]
        },
        {
          "data": {
            "image/png": "[encoded data removed]",
            "text/plain": [
              "<Figure size 432x288 with 1 Axes>"
            ]
          },
          "metadata": {
            "needs_background": "light"
          },
          "output_type": "display_data"
        }
      ],
      "source": [
        "hist_df = df[\"Proline\"]\n",
        "mean = hist_df.mean()\n",
        "mode = hist_df.mode()[0]\n",
        "median = hist_df.median()\n",
        "min = hist_df.min()\n",
        "max = hist_df.max()\n",
        "print(\"Mean:\",mean)\n",
        "print(\"Mode:\",mode)\n",
        "print(\"Median:\",median)\n",
        "print(\"Min:\",min)\n",
        "print(\"Max:\",max)\n",
        "\n",
        "\n",
        "plt.hist(hist_df,bins=7)\n",
        "plt.xlabel(\"Data values\")\n",
        "plt.ylabel(\"Frequency\")\n",
        "plt.title(\"Proline\")\n",
        "plt.axvline(x = mean, color = 'r', label = 'mean')\n",
        "plt.axvline(x = mode, color = 'b', label = 'mode')\n",
        "plt.axvline(x = median, color = 'g', label = 'median')\n",
        "plt.show()"
      ]
    },
    {
      "cell_type": "markdown",
      "metadata": {
        "id": "OW-lGBuIBzou"
      },
      "source": [
        "Looking at Proline feature, the range is 278 to 1680 and the distribution is postive skewed."
      ]
    },
    {
      "cell_type": "markdown",
      "metadata": {
        "id": "X4enNgaPDXAR"
      },
      "source": [
        "Let's see if there is any relationship between features:"
      ]
    },
    {
      "cell_type": "code",
      "execution_count": 70,
      "metadata": {
        "colab": {
          "base_uri": "https://localhost:8080/",
          "height": 295
        },
        "id": "1V41RNW6CnTa",
        "outputId": "c687f488-255f-4658-b73d-cabaf9300c64"
      },
      "outputs": [
        {
          "data": {
            "image/png": "[encoded data removed]",
            "text/plain": [
              "<Figure size 432x288 with 1 Axes>"
            ]
          },
          "metadata": {
            "needs_background": "light"
          },
          "output_type": "display_data"
        }
      ],
      "source": [
        "plt.scatter(df[\"Alcohol\"], df[\"Proline\"])\n",
        "plt.xlabel(\"Alcohol\")\n",
        "plt.ylabel(\"Proline\")\n",
        "plt.title(\"Alcohol vs Proline\")\n",
        "plt.show()"
      ]
    },
    {
      "cell_type": "markdown",
      "metadata": {
        "id": "qdQWg0pJDMqu"
      },
      "source": [
        "From above scatter plot, we can see there is a positive correlation between alchol and proline."
      ]
    }
  ],
  "metadata": {
    "colab": {
      "provenance": []
    },
    "kernelspec": {
      "display_name": "Python 3",
      "language": "python",
      "name": "python3"
    },
    "language_info": {
      "codemirror_mode": {
        "name": "ipython",
        "version": 3
      },
      "file_extension": ".py",
      "mimetype": "text/x-python",
      "name": "python",
      "nbconvert_exporter": "python",
      "pygments_lexer": "ipython3",
      "version": "3.10.4"
    },
    "orig_nbformat": 4,
    "vscode": {
      "interpreter": {
        "hash": "6847c98a8f86b01c6a19c518cd2f366693b80566b266804d5ca763cbb223f52b"
      }
    }
  },
  "nbformat": 4,
  "nbformat_minor": 0
}
