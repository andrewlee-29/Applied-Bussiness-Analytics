{
 "cells": [
  {
   "attachments": {},
   "cell_type": "markdown",
   "metadata": {},
   "source": [
    "# HW_05 by Andrew Lee"
   ]
  },
  {
   "attachments": {},
   "cell_type": "markdown",
   "metadata": {},
   "source": [
    "Import Data"
   ]
  },
  {
   "cell_type": "code",
   "execution_count": 5,
   "metadata": {},
   "outputs": [
    {
     "data": {
      "text/html": [
       "<div>\n",
       "<style scoped>\n",
       "    .dataframe tbody tr th:only-of-type {\n",
       "        vertical-align: middle;\n",
       "    }\n",
       "\n",
       "    .dataframe tbody tr th {\n",
       "        vertical-align: top;\n",
       "    }\n",
       "\n",
       "    .dataframe thead th {\n",
       "        text-align: right;\n",
       "    }\n",
       "</style>\n",
       "<table border=\"1\" class=\"dataframe\">\n",
       "  <thead>\n",
       "    <tr style=\"text-align: right;\">\n",
       "      <th></th>\n",
       "      <th>data_category</th>\n",
       "      <th>purchased</th>\n",
       "      <th>num_employees</th>\n",
       "      <th>first_call_duration_mins</th>\n",
       "      <th>industry</th>\n",
       "      <th>dm_familiarity</th>\n",
       "      <th>dm_perception</th>\n",
       "      <th>dm_awareness</th>\n",
       "      <th>existing_customer</th>\n",
       "      <th>current_spend</th>\n",
       "      <th>company_age_months</th>\n",
       "      <th>trial</th>\n",
       "    </tr>\n",
       "    <tr>\n",
       "      <th>organization_id</th>\n",
       "      <th></th>\n",
       "      <th></th>\n",
       "      <th></th>\n",
       "      <th></th>\n",
       "      <th></th>\n",
       "      <th></th>\n",
       "      <th></th>\n",
       "      <th></th>\n",
       "      <th></th>\n",
       "      <th></th>\n",
       "      <th></th>\n",
       "      <th></th>\n",
       "    </tr>\n",
       "  </thead>\n",
       "  <tbody>\n",
       "    <tr>\n",
       "      <th>952033787530997000</th>\n",
       "      <td>historical</td>\n",
       "      <td>1.0</td>\n",
       "      <td>20</td>\n",
       "      <td>22</td>\n",
       "      <td>CPG</td>\n",
       "      <td>1</td>\n",
       "      <td>2</td>\n",
       "      <td>1</td>\n",
       "      <td>1</td>\n",
       "      <td>4865.0</td>\n",
       "      <td>5</td>\n",
       "      <td>0</td>\n",
       "    </tr>\n",
       "    <tr>\n",
       "      <th>835870154298153000</th>\n",
       "      <td>historical</td>\n",
       "      <td>1.0</td>\n",
       "      <td>88</td>\n",
       "      <td>21</td>\n",
       "      <td>CPG</td>\n",
       "      <td>3</td>\n",
       "      <td>3</td>\n",
       "      <td>2</td>\n",
       "      <td>0</td>\n",
       "      <td>0.0</td>\n",
       "      <td>6</td>\n",
       "      <td>0</td>\n",
       "    </tr>\n",
       "    <tr>\n",
       "      <th>720374601071944000</th>\n",
       "      <td>historical</td>\n",
       "      <td>1.0</td>\n",
       "      <td>38</td>\n",
       "      <td>15</td>\n",
       "      <td>CPG</td>\n",
       "      <td>3</td>\n",
       "      <td>4</td>\n",
       "      <td>1</td>\n",
       "      <td>0</td>\n",
       "      <td>0.0</td>\n",
       "      <td>9</td>\n",
       "      <td>0</td>\n",
       "    </tr>\n",
       "  </tbody>\n",
       "</table>\n",
       "</div>"
      ],
      "text/plain": [
       "                   data_category  purchased  num_employees  \\\n",
       "organization_id                                              \n",
       "952033787530997000    historical        1.0             20   \n",
       "835870154298153000    historical        1.0             88   \n",
       "720374601071944000    historical        1.0             38   \n",
       "\n",
       "                    first_call_duration_mins industry  dm_familiarity  \\\n",
       "organization_id                                                         \n",
       "952033787530997000                        22      CPG               1   \n",
       "835870154298153000                        21      CPG               3   \n",
       "720374601071944000                        15      CPG               3   \n",
       "\n",
       "                    dm_perception  dm_awareness  existing_customer  \\\n",
       "organization_id                                                      \n",
       "952033787530997000              2             1                  1   \n",
       "835870154298153000              3             2                  0   \n",
       "720374601071944000              4             1                  0   \n",
       "\n",
       "                    current_spend  company_age_months  trial  \n",
       "organization_id                                               \n",
       "952033787530997000         4865.0                   5      0  \n",
       "835870154298153000            0.0                   6      0  \n",
       "720374601071944000            0.0                   9      0  "
      ]
     },
     "execution_count": 5,
     "metadata": {},
     "output_type": "execute_result"
    }
   ],
   "source": [
    "from sklearn.linear_model import LogisticRegression\n",
    "from sklearn.metrics import confusion_matrix, classification_report, r2_score\n",
    "import numpy as np\n",
    "import matplotlib.pyplot as plt\n",
    "import pandas as pd\n",
    "import seaborn as sns\n",
    "\n",
    "df = pd.read_csv('./dataset/datasets_applied_business_analytics - leadscoring.csv.csv')\n",
    "# set the feature unit type to int\n",
    "df[['num_employees', 'first_call_duration_mins', 'dm_familiarity', 'dm_perception','dm_awareness','existing_customer','company_age_months']] = \\\n",
    "df[['num_employees', 'first_call_duration_mins', 'dm_familiarity', 'dm_perception','dm_awareness','existing_customer','company_age_months']].astype(int)\n",
    "df.fillna(0,inplace=True)\n",
    "# remove the dollar sign\n",
    "df['current_spend'] = [float(x[1:].replace(',', '')) for x in df['current_spend']]\n",
    "df = df.set_index(\"organization_id\")\n",
    "df.head(3)\n"
   ]
  },
  {
   "attachments": {},
   "cell_type": "markdown",
   "metadata": {},
   "source": [
    "# Descriptive visualizations"
   ]
  },
  {
   "cell_type": "code",
   "execution_count": 8,
   "metadata": {},
   "outputs": [
    {
     "data": {
      "image/png": "[encoded data removed]",
      "text/plain": [
       "<Figure size 864x432 with 1 Axes>"
      ]
     },
     "metadata": {
      "needs_background": "light"
     },
     "output_type": "display_data"
    }
   ],
   "source": [
    "plt.figure(figsize=(12,6))\n",
    "ax = sns.countplot(data=df, x='trial')\n",
    "plt.title('Fig 1. Total count for the trials (0=become a customer/1=not become a customer) ')\n",
    "ax.bar_label(ax.containers[0], label_type='edge')\n",
    "plt.show()"
   ]
  },
  {
   "attachments": {},
   "cell_type": "markdown",
   "metadata": {},
   "source": [
    "From Fig 1, it shows the dataset is not balance. The ratio between the become a customer and not become a customer is 2:1. This may affect the prediction model have higher chance to produce not become a customer as the result."
   ]
  },
  {
   "attachments": {},
   "cell_type": "markdown",
   "metadata": {},
   "source": [
    "# Data analysis can be a valuable tool in lead scoring, which is the process of assigning a numeric value to a lead based on its likelihood of becoming a customer."
   ]
  },
  {
   "attachments": {},
   "cell_type": "markdown",
   "metadata": {},
   "source": [
    "Our goal is trying to apply logistic regression with 2 features to predict the trial. The trial feature is the dependent variable (outcome variable). I filiter out the category and id type of variable and here are the possible indepentent variables: \n",
    "- num_employees \n",
    "- first_call_duration_mins \n",
    "- dm_familiarity \n",
    "- dm_perception  \n",
    "- dm_awareness \n",
    "- existing_customer\n",
    "- current_spend\n",
    "- company_age_months  \n"
   ]
  },
  {
   "attachments": {},
   "cell_type": "markdown",
   "metadata": {},
   "source": [
    "First, I need to get all the possible combination with the independent features."
   ]
  },
  {
   "cell_type": "code",
   "execution_count": 2,
   "metadata": {},
   "outputs": [
    {
     "data": {
      "text/html": [
       "<div>\n",
       "<style scoped>\n",
       "    .dataframe tbody tr th:only-of-type {\n",
       "        vertical-align: middle;\n",
       "    }\n",
       "\n",
       "    .dataframe tbody tr th {\n",
       "        vertical-align: top;\n",
       "    }\n",
       "\n",
       "    .dataframe thead th {\n",
       "        text-align: right;\n",
       "    }\n",
       "</style>\n",
       "<table border=\"1\" class=\"dataframe\">\n",
       "  <thead>\n",
       "    <tr style=\"text-align: right;\">\n",
       "      <th></th>\n",
       "      <th>combination</th>\n",
       "      <th>accuracy</th>\n",
       "      <th>Precision</th>\n",
       "      <th>Recall</th>\n",
       "    </tr>\n",
       "  </thead>\n",
       "  <tbody>\n",
       "    <tr>\n",
       "      <th>0</th>\n",
       "      <td>num_employees &amp; first_call_duration_mins</td>\n",
       "      <td>0.998013</td>\n",
       "      <td>0.998912</td>\n",
       "      <td>0.994583</td>\n",
       "    </tr>\n",
       "    <tr>\n",
       "      <th>1</th>\n",
       "      <td>num_employees &amp; dm_familiarity</td>\n",
       "      <td>0.997681</td>\n",
       "      <td>1.0</td>\n",
       "      <td>0.992416</td>\n",
       "    </tr>\n",
       "    <tr>\n",
       "      <th>2</th>\n",
       "      <td>num_employees &amp; dm_perception</td>\n",
       "      <td>0.997681</td>\n",
       "      <td>1.0</td>\n",
       "      <td>0.992416</td>\n",
       "    </tr>\n",
       "    <tr>\n",
       "      <th>3</th>\n",
       "      <td>num_employees &amp; dm_awareness</td>\n",
       "      <td>0.997681</td>\n",
       "      <td>1.0</td>\n",
       "      <td>0.992416</td>\n",
       "    </tr>\n",
       "    <tr>\n",
       "      <th>4</th>\n",
       "      <td>num_employees &amp; existing_customer</td>\n",
       "      <td>0.997681</td>\n",
       "      <td>1.0</td>\n",
       "      <td>0.992416</td>\n",
       "    </tr>\n",
       "  </tbody>\n",
       "</table>\n",
       "</div>"
      ],
      "text/plain": [
       "                                combination  accuracy Precision    Recall\n",
       "0  num_employees & first_call_duration_mins  0.998013  0.998912  0.994583\n",
       "1            num_employees & dm_familiarity  0.997681       1.0  0.992416\n",
       "2             num_employees & dm_perception  0.997681       1.0  0.992416\n",
       "3              num_employees & dm_awareness  0.997681       1.0  0.992416\n",
       "4         num_employees & existing_customer  0.997681       1.0  0.992416"
      ]
     },
     "execution_count": 2,
     "metadata": {},
     "output_type": "execute_result"
    }
   ],
   "source": [
    "features = ['num_employees', 'first_call_duration_mins', 'dm_familiarity', 'dm_perception','dm_awareness','existing_customer','current_spend','company_age_months']\n",
    "combinations = []\n",
    "result_df =pd.DataFrame(columns=['combination', 'accuracy','Precision','Recall'])\n",
    "for i in range(len(features)):\n",
    "    for j in range(i+1, len(features)):\n",
    "        combinations.append([features[i],features[j]])\n",
    "for combination in combinations:\n",
    "    X = df[combination]\n",
    "    Y= df['trial'].astype('bool')\n",
    "    model = LogisticRegression()\n",
    "    model.fit(X, Y)\n",
    "    # predict the class labels\n",
    "    y_pred = model.predict(X)\n",
    "    # calculate the confusion matrix\n",
    "    cm = confusion_matrix(Y, y_pred)\n",
    "    # create a DataFrame from the confusion matrix\n",
    "    cm_df = pd.DataFrame(cm, index=['True_Negative', 'True_Positive'], columns=['Predicted_Negative', 'Predicted_Positive'])\n",
    "    # print the confusion matrix\n",
    "    total = y_pred.size\n",
    "    accuracy = (cm_df['Predicted_Negative']['True_Negative']+cm_df['Predicted_Positive']['True_Positive'])/total\n",
    "    # avoid 0 divsion \n",
    "    if ((cm_df['Predicted_Positive']['True_Negative']+cm_df['Predicted_Positive']['True_Positive'])==0):\n",
    "        Precision = 0\n",
    "    else:\n",
    "        Precision = cm_df['Predicted_Positive']['True_Positive']/(cm_df['Predicted_Positive']['True_Negative']+cm_df['Predicted_Positive']['True_Positive'])\n",
    "    Recall = cm_df['Predicted_Positive']['True_Positive']/(cm_df['Predicted_Negative']['True_Positive']+cm_df['Predicted_Positive']['True_Positive'])\n",
    "    # create dataframe for result \n",
    "    temp_dict = {'combination':[' & '.join(combination)], \"accuracy\":[accuracy],\"Precision\":[Precision],\"Recall\":[Recall]}\n",
    "    new_data = pd.DataFrame(temp_dict)\n",
    "    result_df = pd.concat([result_df, new_data], ignore_index = True)\n",
    "result_df.head(5)\n"
   ]
  },
  {
   "cell_type": "code",
   "execution_count": 69,
   "metadata": {},
   "outputs": [
    {
     "name": "stdout",
     "output_type": "stream",
     "text": [
      "Top 5 combination with largest accuracy table \n"
     ]
    },
    {
     "data": {
      "text/html": [
       "<div>\n",
       "<style scoped>\n",
       "    .dataframe tbody tr th:only-of-type {\n",
       "        vertical-align: middle;\n",
       "    }\n",
       "\n",
       "    .dataframe tbody tr th {\n",
       "        vertical-align: top;\n",
       "    }\n",
       "\n",
       "    .dataframe thead th {\n",
       "        text-align: right;\n",
       "    }\n",
       "</style>\n",
       "<table border=\"1\" class=\"dataframe\">\n",
       "  <thead>\n",
       "    <tr style=\"text-align: right;\">\n",
       "      <th></th>\n",
       "      <th>combination</th>\n",
       "      <th>accuracy</th>\n",
       "      <th>Precision</th>\n",
       "      <th>Recall</th>\n",
       "    </tr>\n",
       "  </thead>\n",
       "  <tbody>\n",
       "    <tr>\n",
       "      <th>0</th>\n",
       "      <td>num_employees &amp; first_call_duration_mins</td>\n",
       "      <td>0.998013</td>\n",
       "      <td>0.998912</td>\n",
       "      <td>0.994583</td>\n",
       "    </tr>\n",
       "    <tr>\n",
       "      <th>5</th>\n",
       "      <td>num_employees &amp; current_spend</td>\n",
       "      <td>0.998013</td>\n",
       "      <td>0.993541</td>\n",
       "      <td>1.0</td>\n",
       "    </tr>\n",
       "    <tr>\n",
       "      <th>2</th>\n",
       "      <td>num_employees &amp; dm_perception</td>\n",
       "      <td>0.997681</td>\n",
       "      <td>1.0</td>\n",
       "      <td>0.992416</td>\n",
       "    </tr>\n",
       "    <tr>\n",
       "      <th>3</th>\n",
       "      <td>num_employees &amp; dm_awareness</td>\n",
       "      <td>0.997681</td>\n",
       "      <td>1.0</td>\n",
       "      <td>0.992416</td>\n",
       "    </tr>\n",
       "    <tr>\n",
       "      <th>4</th>\n",
       "      <td>num_employees &amp; existing_customer</td>\n",
       "      <td>0.997681</td>\n",
       "      <td>1.0</td>\n",
       "      <td>0.992416</td>\n",
       "    </tr>\n",
       "  </tbody>\n",
       "</table>\n",
       "</div>"
      ],
      "text/plain": [
       "                                combination  accuracy Precision    Recall\n",
       "0  num_employees & first_call_duration_mins  0.998013  0.998912  0.994583\n",
       "5             num_employees & current_spend  0.998013  0.993541       1.0\n",
       "2             num_employees & dm_perception  0.997681       1.0  0.992416\n",
       "3              num_employees & dm_awareness  0.997681       1.0  0.992416\n",
       "4         num_employees & existing_customer  0.997681       1.0  0.992416"
      ]
     },
     "execution_count": 69,
     "metadata": {},
     "output_type": "execute_result"
    }
   ],
   "source": [
    "print(\"Top 5 combination with largest accuracy table \")\n",
    "result_df.sort_values('accuracy', ascending=False).head(5)"
   ]
  },
  {
   "attachments": {},
   "cell_type": "markdown",
   "metadata": {},
   "source": [
    "From the top 5 combinations with the largest accuracy table, we find that combinations(num_employees & first_call_duration_mins)and (num_employees & current_spend) both have 0.998 accuracy. Combination (num_employees & first_call_duration_mins) have 0.998 Precision and 0.994 Recall. Combination (num_employees & current_spend) has 0.993541 Precision and 1 Recall. We could say both combinations have the best prediction for the dataset."
   ]
  },
  {
   "cell_type": "code",
   "execution_count": 14,
   "metadata": {},
   "outputs": [
    {
     "name": "stdout",
     "output_type": "stream",
     "text": [
      "Top 5 combination with largest Precision table \n"
     ]
    },
    {
     "data": {
      "text/html": [
       "<div>\n",
       "<style scoped>\n",
       "    .dataframe tbody tr th:only-of-type {\n",
       "        vertical-align: middle;\n",
       "    }\n",
       "\n",
       "    .dataframe tbody tr th {\n",
       "        vertical-align: top;\n",
       "    }\n",
       "\n",
       "    .dataframe thead th {\n",
       "        text-align: right;\n",
       "    }\n",
       "</style>\n",
       "<table border=\"1\" class=\"dataframe\">\n",
       "  <thead>\n",
       "    <tr style=\"text-align: right;\">\n",
       "      <th></th>\n",
       "      <th>combination</th>\n",
       "      <th>accuracy</th>\n",
       "      <th>Precision</th>\n",
       "      <th>Recall</th>\n",
       "    </tr>\n",
       "  </thead>\n",
       "  <tbody>\n",
       "    <tr>\n",
       "      <th>2</th>\n",
       "      <td>num_employees &amp; dm_perception</td>\n",
       "      <td>0.997681</td>\n",
       "      <td>1.0</td>\n",
       "      <td>0.992416</td>\n",
       "    </tr>\n",
       "    <tr>\n",
       "      <th>3</th>\n",
       "      <td>num_employees &amp; dm_awareness</td>\n",
       "      <td>0.997681</td>\n",
       "      <td>1.0</td>\n",
       "      <td>0.992416</td>\n",
       "    </tr>\n",
       "    <tr>\n",
       "      <th>4</th>\n",
       "      <td>num_employees &amp; existing_customer</td>\n",
       "      <td>0.997681</td>\n",
       "      <td>1.0</td>\n",
       "      <td>0.992416</td>\n",
       "    </tr>\n",
       "    <tr>\n",
       "      <th>6</th>\n",
       "      <td>num_employees &amp; company_age_months</td>\n",
       "      <td>0.997681</td>\n",
       "      <td>1.0</td>\n",
       "      <td>0.992416</td>\n",
       "    </tr>\n",
       "    <tr>\n",
       "      <th>1</th>\n",
       "      <td>num_employees &amp; dm_familiarity</td>\n",
       "      <td>0.997681</td>\n",
       "      <td>1.0</td>\n",
       "      <td>0.992416</td>\n",
       "    </tr>\n",
       "    <tr>\n",
       "      <th>0</th>\n",
       "      <td>num_employees &amp; first_call_duration_mins</td>\n",
       "      <td>0.998013</td>\n",
       "      <td>0.998912</td>\n",
       "      <td>0.994583</td>\n",
       "    </tr>\n",
       "  </tbody>\n",
       "</table>\n",
       "</div>"
      ],
      "text/plain": [
       "                                combination  accuracy Precision    Recall\n",
       "2             num_employees & dm_perception  0.997681       1.0  0.992416\n",
       "3              num_employees & dm_awareness  0.997681       1.0  0.992416\n",
       "4         num_employees & existing_customer  0.997681       1.0  0.992416\n",
       "6        num_employees & company_age_months  0.997681       1.0  0.992416\n",
       "1            num_employees & dm_familiarity  0.997681       1.0  0.992416\n",
       "0  num_employees & first_call_duration_mins  0.998013  0.998912  0.994583"
      ]
     },
     "execution_count": 14,
     "metadata": {},
     "output_type": "execute_result"
    }
   ],
   "source": [
    "print(\"Top 5 combination with largest Precision table \")\n",
    "result_df.sort_values('Precision', ascending=False).head(6)"
   ]
  },
  {
   "attachments": {},
   "cell_type": "markdown",
   "metadata": {},
   "source": [
    "From the top 5 combinations with the largest Precision table, we find there are 5 combinations that have 1 precision : \n",
    "\n",
    "(num_employees & dm_perception) \n",
    "(num_employees & dm_awareness) \n",
    "(num_employees & existing_customer) \n",
    "(num_employees & company_age_months) \n",
    "(num_employees & dm_familiarity)\n",
    "\n",
    "Using this five combinations feautre to the model will provide a lower chance to predict fake positive result (predict the person will be the customer but the fact is not)"
   ]
  },
  {
   "cell_type": "code",
   "execution_count": 15,
   "metadata": {},
   "outputs": [
    {
     "name": "stdout",
     "output_type": "stream",
     "text": [
      "Top 5 combination with Recall accuracy table \n"
     ]
    },
    {
     "data": {
      "text/html": [
       "<div>\n",
       "<style scoped>\n",
       "    .dataframe tbody tr th:only-of-type {\n",
       "        vertical-align: middle;\n",
       "    }\n",
       "\n",
       "    .dataframe tbody tr th {\n",
       "        vertical-align: top;\n",
       "    }\n",
       "\n",
       "    .dataframe thead th {\n",
       "        text-align: right;\n",
       "    }\n",
       "</style>\n",
       "<table border=\"1\" class=\"dataframe\">\n",
       "  <thead>\n",
       "    <tr style=\"text-align: right;\">\n",
       "      <th></th>\n",
       "      <th>combination</th>\n",
       "      <th>accuracy</th>\n",
       "      <th>Precision</th>\n",
       "      <th>Recall</th>\n",
       "    </tr>\n",
       "  </thead>\n",
       "  <tbody>\n",
       "    <tr>\n",
       "      <th>5</th>\n",
       "      <td>num_employees &amp; current_spend</td>\n",
       "      <td>0.998013</td>\n",
       "      <td>0.993541</td>\n",
       "      <td>1.0</td>\n",
       "    </tr>\n",
       "    <tr>\n",
       "      <th>0</th>\n",
       "      <td>num_employees &amp; first_call_duration_mins</td>\n",
       "      <td>0.998013</td>\n",
       "      <td>0.998912</td>\n",
       "      <td>0.994583</td>\n",
       "    </tr>\n",
       "    <tr>\n",
       "      <th>2</th>\n",
       "      <td>num_employees &amp; dm_perception</td>\n",
       "      <td>0.997681</td>\n",
       "      <td>1.0</td>\n",
       "      <td>0.992416</td>\n",
       "    </tr>\n",
       "    <tr>\n",
       "      <th>3</th>\n",
       "      <td>num_employees &amp; dm_awareness</td>\n",
       "      <td>0.997681</td>\n",
       "      <td>1.0</td>\n",
       "      <td>0.992416</td>\n",
       "    </tr>\n",
       "    <tr>\n",
       "      <th>4</th>\n",
       "      <td>num_employees &amp; existing_customer</td>\n",
       "      <td>0.997681</td>\n",
       "      <td>1.0</td>\n",
       "      <td>0.992416</td>\n",
       "    </tr>\n",
       "  </tbody>\n",
       "</table>\n",
       "</div>"
      ],
      "text/plain": [
       "                                combination  accuracy Precision    Recall\n",
       "5             num_employees & current_spend  0.998013  0.993541       1.0\n",
       "0  num_employees & first_call_duration_mins  0.998013  0.998912  0.994583\n",
       "2             num_employees & dm_perception  0.997681       1.0  0.992416\n",
       "3              num_employees & dm_awareness  0.997681       1.0  0.992416\n",
       "4         num_employees & existing_customer  0.997681       1.0  0.992416"
      ]
     },
     "execution_count": 15,
     "metadata": {},
     "output_type": "execute_result"
    }
   ],
   "source": [
    "print(\"Top 5 combination with Recall accuracy table \")\n",
    "result_df.sort_values('Recall', ascending=False).head(5)"
   ]
  },
  {
   "attachments": {},
   "cell_type": "markdown",
   "metadata": {},
   "source": [
    "From the top 5 combinations with the largest Precision table, we find there are 1 combinations that have 1 precision : num_employees & current_spend\t\n",
    "\n",
    "Using this combinations feautre to the model will provide a lower chance to predict fake negative result (predict the person will not be the customer but the fact is person will be the customer)"
   ]
  },
  {
   "attachments": {},
   "cell_type": "markdown",
   "metadata": {},
   "source": [
    "### In conclusion, If we seek for overall acuracy, using the features combination (num_employees & first_call_duration_mins) or  (num_employees & current_spend) provide the best predication result with the dataset. However, if we seek for the saving empolyee effort and company resource, using the feautures combination (num_employees & dm_perception) ,(num_employees & dm_awareness) ,(num_employees & existing_customer) ,(num_employees & company_age_months) ,(num_employees & dm_familiarity) will the the best predication result with the dataset. If we seek for the maximum the probality to look potential customer, using the feautures combination (num_employees & current_spend) will the the best predication result with the dataset. "
   ]
  }
 ],
 "metadata": {
  "kernelspec": {
   "display_name": "Python 3",
   "language": "python",
   "name": "python3"
  },
  "language_info": {
   "codemirror_mode": {
    "name": "ipython",
    "version": 3
   },
   "file_extension": ".py",
   "mimetype": "text/x-python",
   "name": "python",
   "nbconvert_exporter": "python",
   "pygments_lexer": "ipython3",
   "version": "3.10.4"
  },
  "orig_nbformat": 4,
  "vscode": {
   "interpreter": {
    "hash": "6847c98a8f86b01c6a19c518cd2f366693b80566b266804d5ca763cbb223f52b"
   }
  }
 },
 "nbformat": 4,
 "nbformat_minor": 2
}
