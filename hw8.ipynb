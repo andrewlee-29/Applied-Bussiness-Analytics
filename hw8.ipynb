{
 "cells": [
  {
   "attachments": {},
   "cell_type": "markdown",
   "metadata": {},
   "source": [
    "# HW_08 by Andrew Lee"
   ]
  },
  {
   "attachments": {},
   "cell_type": "markdown",
   "metadata": {},
   "source": [
    "## Which independent variable (either individually or in terms of their interactions) are the best predictors for a high likelihood to visit the food area?\n"
   ]
  },
  {
   "attachments": {},
   "cell_type": "markdown",
   "metadata": {},
   "source": [
    "Import Data"
   ]
  },
  {
   "cell_type": "code",
   "execution_count": 2,
   "metadata": {},
   "outputs": [
    {
     "data": {
      "text/html": [
       "<div>\n",
       "<style scoped>\n",
       "    .dataframe tbody tr th:only-of-type {\n",
       "        vertical-align: middle;\n",
       "    }\n",
       "\n",
       "    .dataframe tbody tr th {\n",
       "        vertical-align: top;\n",
       "    }\n",
       "\n",
       "    .dataframe thead th {\n",
       "        text-align: right;\n",
       "    }\n",
       "</style>\n",
       "<table border=\"1\" class=\"dataframe\">\n",
       "  <thead>\n",
       "    <tr style=\"text-align: right;\">\n",
       "      <th></th>\n",
       "      <th>intent_to_visit</th>\n",
       "      <th>respondent_gender</th>\n",
       "      <th>respondent_age</th>\n",
       "      <th>food_type</th>\n",
       "      <th>beverage_type</th>\n",
       "      <th>atmosphere_type</th>\n",
       "    </tr>\n",
       "    <tr>\n",
       "      <th>respondent_id</th>\n",
       "      <th></th>\n",
       "      <th></th>\n",
       "      <th></th>\n",
       "      <th></th>\n",
       "      <th></th>\n",
       "      <th></th>\n",
       "    </tr>\n",
       "  </thead>\n",
       "  <tbody>\n",
       "    <tr>\n",
       "      <th>A1113965</th>\n",
       "      <td>6</td>\n",
       "      <td>1</td>\n",
       "      <td>3</td>\n",
       "      <td>0</td>\n",
       "      <td>0</td>\n",
       "      <td>1</td>\n",
       "    </tr>\n",
       "    <tr>\n",
       "      <th>A1131161</th>\n",
       "      <td>7</td>\n",
       "      <td>1</td>\n",
       "      <td>4</td>\n",
       "      <td>1</td>\n",
       "      <td>0</td>\n",
       "      <td>0</td>\n",
       "    </tr>\n",
       "    <tr>\n",
       "      <th>A1141748</th>\n",
       "      <td>6</td>\n",
       "      <td>0</td>\n",
       "      <td>4</td>\n",
       "      <td>1</td>\n",
       "      <td>1</td>\n",
       "      <td>1</td>\n",
       "    </tr>\n",
       "    <tr>\n",
       "      <th>A1145338</th>\n",
       "      <td>3</td>\n",
       "      <td>0</td>\n",
       "      <td>5</td>\n",
       "      <td>1</td>\n",
       "      <td>1</td>\n",
       "      <td>1</td>\n",
       "    </tr>\n",
       "    <tr>\n",
       "      <th>A1145945</th>\n",
       "      <td>7</td>\n",
       "      <td>1</td>\n",
       "      <td>1</td>\n",
       "      <td>0</td>\n",
       "      <td>0</td>\n",
       "      <td>0</td>\n",
       "    </tr>\n",
       "  </tbody>\n",
       "</table>\n",
       "</div>"
      ],
      "text/plain": [
       "               intent_to_visit  respondent_gender  respondent_age  food_type  \\\n",
       "respondent_id                                                                  \n",
       "A1113965                     6                  1               3          0   \n",
       "A1131161                     7                  1               4          1   \n",
       "A1141748                     6                  0               4          1   \n",
       "A1145338                     3                  0               5          1   \n",
       "A1145945                     7                  1               1          0   \n",
       "\n",
       "               beverage_type  atmosphere_type  \n",
       "respondent_id                                  \n",
       "A1113965                   0                1  \n",
       "A1131161                   0                0  \n",
       "A1141748                   1                1  \n",
       "A1145338                   1                1  \n",
       "A1145945                   0                0  "
      ]
     },
     "execution_count": 2,
     "metadata": {},
     "output_type": "execute_result"
    }
   ],
   "source": [
    "# import necessary libraries\n",
    "import pandas as pd\n",
    "import statsmodels.api as sm\n",
    "from statsmodels.formula.api import ols\n",
    "import matplotlib.pyplot as plt\n",
    "import seaborn as sns\n",
    "import scipy.stats as stats\n",
    "\n",
    "df = pd.read_csv('datasets_applied_business_analytics - pricing.csv.csv')\n",
    "df.set_index(\"respondent_id\", inplace = True)\n",
    "df.head()"
   ]
  },
  {
   "cell_type": "code",
   "execution_count": 3,
   "metadata": {},
   "outputs": [
    {
     "name": "stdout",
     "output_type": "stream",
     "text": [
      "intent_to_visit  : [6 7 3 5 2 4 1]\n",
      "respondent_gender  : [1 0]\n",
      "respondent_age  : [3 4 5 1 2 6]\n",
      "food_type  : [0 1]\n",
      "beverage_type  : [0 1]\n",
      "atmosphere_type  : [1 0]\n"
     ]
    }
   ],
   "source": [
    "col_names = [x for x in df.columns]\n",
    "poss_output = [df[x].unique() for x in col_names]\n",
    "for i in range(len(col_names)):\n",
    "    print(col_names[i],\" :\", poss_output[i])"
   ]
  },
  {
   "attachments": {},
   "cell_type": "markdown",
   "metadata": {},
   "source": [
    "- intent_to_visit : dependent variable, desire scale from 1 to 7. [1,2,3,4,5,6,7]\n",
    "- respondent_gender: independent variable, reponseer gender as binary [1,0]\n",
    "- respondent_age : independent variable, reponserer age scale from 1 to 6 [1,2,3,4,5,6]\n",
    "- food_type : independent variable, 2 type of food as binary [1,0]\n",
    "- beverage_type : independent variable, 2 type of beverage as binary [1,0]\n",
    "- atmosphere_type : independent variable, 2 type of atmosphere as binary [1,0]\n",
    "\n",
    "Methodology that I am going to use is ANOVA, since the independent variables are binary/categorical and dependent variable is number."
   ]
  },
  {
   "cell_type": "markdown",
   "metadata": {},
   "source": []
  },
  {
   "cell_type": "code",
   "execution_count": 4,
   "metadata": {},
   "outputs": [],
   "source": [
    "model = ols('intent_to_visit ~ respondent_gender + respondent_age + food_type + beverage_type + atmosphere_type +\\\n",
    "            respondent_gender*respondent_age +  respondent_gender*food_type + respondent_gender*beverage_type + respondent_gender*atmosphere_type+\\\n",
    "            respondent_age*food_type + respondent_age*beverage_type + respondent_age*atmosphere_type+\\\n",
    "            food_type*beverage_type + food_type*atmosphere_type + beverage_type*atmosphere_type',data=df).fit()"
   ]
  },
  {
   "cell_type": "code",
   "execution_count": 6,
   "metadata": {},
   "outputs": [
    {
     "name": "stdout",
     "output_type": "stream",
     "text": [
      "Fig 1 ANOVA summary table \n",
      "                                                 sum_sq                   df  \\\n",
      "respondent_gender                     0.654475560500593    1.000000000000000   \n",
      "respondent_age                       14.551188939906822    1.000000000000000   \n",
      "food_type                             0.176041666666761    1.000000000000000   \n",
      "beverage_type                        76.501041666665174    1.000000000000000   \n",
      "atmosphere_type                      17.876041666666197    1.000000000000000   \n",
      "respondent_gender:respondent_age      1.082012810851970    1.000000000000000   \n",
      "respondent_gender:food_type          17.387375326624849    1.000000000000000   \n",
      "respondent_gender:beverage_type       4.292405332753208    1.000000000000000   \n",
      "respondent_gender:atmosphere_type     0.375528548765700    1.000000000000000   \n",
      "respondent_age:food_type              0.148691195355685    1.000000000000000   \n",
      "respondent_age:beverage_type          5.502676055711576    1.000000000000000   \n",
      "respondent_age:atmosphere_type        0.929149226410466    1.000000000000000   \n",
      "food_type:beverage_type               0.009375000000001    1.000000000000000   \n",
      "food_type:atmosphere_type             0.051041666666668    1.000000000000000   \n",
      "beverage_type:atmosphere_type         1.001041666666632    1.000000000000000   \n",
      "Residual                           2070.220987121295366  944.000000000000000   \n",
      "\n",
      "                                                    F             PR(>F)  \n",
      "respondent_gender                   0.298434289361381  0.584994734031820  \n",
      "respondent_age                      6.635196167329369  0.010149386144998  \n",
      "food_type                           0.080273233808003  0.776989594305556  \n",
      "beverage_type                      34.883707479824082  0.000000004880382  \n",
      "atmosphere_type                     8.151295653126414  0.004397294967877  \n",
      "respondent_gender:respondent_age    0.493386986122953  0.482593485830503  \n",
      "respondent_gender:food_type         7.928468704762566  0.004967640845799  \n",
      "respondent_gender:beverage_type     1.957293766861816  0.162131513397062  \n",
      "respondent_gender:atmosphere_type   0.171237250631761  0.679108551143038  \n",
      "respondent_age:food_type            0.067801693292148  0.794621605397889  \n",
      "respondent_age:beverage_type        2.509165074118427  0.113520812213615  \n",
      "respondent_age:atmosphere_type      0.423682725268445  0.515263533473487  \n",
      "food_type:beverage_type             0.004274905942436  0.947883089599297  \n",
      "food_type:atmosphere_type           0.023274487908817  0.878778041587729  \n",
      "beverage_type:atmosphere_type       0.456464956742289  0.499446196317777  \n",
      "Residual                                          nan                nan  \n"
     ]
    }
   ],
   "source": [
    "anova_table = sm.stats.anova_lm(model,typ=2)\n",
    "anova_table = anova_table.applymap('{:.15f}'.format)\n",
    "print(\"Fig 1 ANOVA summary table \")\n",
    "print(anova_table)"
   ]
  },
  {
   "attachments": {},
   "cell_type": "markdown",
   "metadata": {},
   "source": [
    "Assume the significance level is 0.05, base on the ANOVA summary table, beverage_type have the highest F-statisic value (34.88) and statistically significant difference with p-value (0.000000004). \n",
    "Atmosphere_type have the second highest F-statisic value (8.15) and statistically significant difference with p-value (0.004). \n",
    "Also, respondent_gender and food_type have the high F-statitic value ( 7.92) and statistically significant difference with p-value (0.005) which shows they may have high interaction effect."
   ]
  },
  {
   "attachments": {},
   "cell_type": "markdown",
   "metadata": {},
   "source": [
    "### Checking fundamental assumption (beverage_type vs intent_to_visit)"
   ]
  },
  {
   "cell_type": "code",
   "execution_count": 38,
   "metadata": {},
   "outputs": [
    {
     "data": {
      "image/png": "[encoded data removed]",
      "text/plain": [
       "<Figure size 432x288 with 1 Axes>"
      ]
     },
     "metadata": {
      "needs_background": "light"
     },
     "output_type": "display_data"
    }
   ],
   "source": [
    "df.boxplot(column='intent_to_visit', by='beverage_type')\n",
    "plt.xlabel('beverage_type')\n",
    "plt.ylabel('intent_to_visit')\n",
    "plt.suptitle(\"\")\n",
    "plt.title(\"Fig2. Box plot (intent_to_visit with beverage_type) \")\n",
    "plt.show()"
   ]
  },
  {
   "attachments": {},
   "cell_type": "markdown",
   "metadata": {},
   "source": [
    "From Fig2. bervage type 1 and type 2 has similar box-length. These shows the variance of two groups are the same similar. The box is not on the middle of the range. It shows the data may be skewed."
   ]
  },
  {
   "cell_type": "code",
   "execution_count": 37,
   "metadata": {},
   "outputs": [
    {
     "data": {
      "image/png": "[encoded data removed]",
      "text/plain": [
       "<Figure size 432x288 with 1 Axes>"
      ]
     },
     "metadata": {
      "needs_background": "light"
     },
     "output_type": "display_data"
    }
   ],
   "source": [
    "import seaborn as sns\n",
    "X =df[['beverage_type']]\n",
    "y=df['intent_to_visit']\n",
    "model1 = ols(\"intent_to_visit ~ beverage_type\", df).fit()\n",
    "y_pred = model1.predict(X)\n",
    "residuals = y - y_pred\n",
    "# Plot the residuals\n",
    "stats.probplot(residuals, plot=plt)\n",
    "plt.title(\"Fig 3. Probability plot for intent_to_visit vs beverage_type \")\n",
    "plt.show()"
   ]
  },
  {
   "attachments": {},
   "cell_type": "markdown",
   "metadata": {},
   "source": [
    "In Fig 3 probability plot, both tails deviate on the same side of the line, which is evidence of skewed data. We can conclude the residuals are sightly not normally distributed."
   ]
  },
  {
   "cell_type": "code",
   "execution_count": 40,
   "metadata": {},
   "outputs": [
    {
     "data": {
      "image/png": "[encoded data removed]",
      "text/plain": [
       "<Figure size 432x288 with 1 Axes>"
      ]
     },
     "metadata": {
      "needs_background": "light"
     },
     "output_type": "display_data"
    }
   ],
   "source": [
    "df.boxplot(column='intent_to_visit', by='atmosphere_type')\n",
    "plt.xlabel('atmosphere_type')\n",
    "plt.ylabel('intent_to_visit')\n",
    "plt.suptitle(\"\")\n",
    "plt.title(\"Fig4. Box plot (intent_to_visit with atmosphere_type) \")\n",
    "plt.show()"
   ]
  },
  {
   "attachments": {},
   "cell_type": "markdown",
   "metadata": {},
   "source": [
    "From Fig4, atmosphere type 1 and type 2 has similar box-length. These shows the variance of two groups are the same similar. The box is not on the middle of the range. It shows the data may be skewed."
   ]
  },
  {
   "cell_type": "code",
   "execution_count": 41,
   "metadata": {},
   "outputs": [
    {
     "data": {
      "image/png": "[encoded data removed]",
      "text/plain": [
       "<Figure size 432x288 with 1 Axes>"
      ]
     },
     "metadata": {
      "needs_background": "light"
     },
     "output_type": "display_data"
    }
   ],
   "source": [
    "import seaborn as sns\n",
    "X =df[['atmosphere_type']]\n",
    "y=df['intent_to_visit']\n",
    "model1 = ols(\"intent_to_visit ~ atmosphere_type\", df).fit()\n",
    "y_pred = model1.predict(X)\n",
    "residuals = y - y_pred\n",
    "# Plot the residuals\n",
    "stats.probplot(residuals, plot=plt)\n",
    "plt.title(\"Fig 5. Probability plot for intent_to_visit vs atmosphere_type \")\n",
    "plt.show()"
   ]
  },
  {
   "attachments": {},
   "cell_type": "markdown",
   "metadata": {},
   "source": [
    "In Fig 5 probability plot, both tails deviate on the same side of the line, which is evidence of skewed data. We can conclude the residuals are sightly not normally distributed."
   ]
  },
  {
   "cell_type": "code",
   "execution_count": 50,
   "metadata": {},
   "outputs": [
    {
     "data": {
      "image/png": "[encoded data removed]",
      "text/plain": [
       "<Figure size 432x288 with 1 Axes>"
      ]
     },
     "metadata": {
      "needs_background": "light"
     },
     "output_type": "display_data"
    }
   ],
   "source": [
    "import seaborn as sns\n",
    "X =df[['food_type','respondent_age']]\n",
    "y=df['intent_to_visit']\n",
    "model1 = ols(\"intent_to_visit ~ respondent_age*food_type\", df).fit()\n",
    "y_pred = model1.predict(X)\n",
    "residuals = y - y_pred\n",
    "# Plot the residuals\n",
    "stats.probplot(residuals, plot=plt)\n",
    "plt.title(\"Fig 6. Probability plot for intent_to_visit vs respondent_age*food_type \")\n",
    "plt.show()"
   ]
  },
  {
   "attachments": {},
   "cell_type": "markdown",
   "metadata": {},
   "source": [
    "In Fig 6 probability plot, the top tail deviates on the same side of the line, which is evidence of skewed data. We can conclude the residuals are sightly not normally distributed."
   ]
  },
  {
   "attachments": {},
   "cell_type": "markdown",
   "metadata": {},
   "source": [
    "### Conclusion"
   ]
  },
  {
   "attachments": {},
   "cell_type": "markdown",
   "metadata": {},
   "source": [
    "Beverage_type and Atmosphere_type are the best predictors for a high likelihood to visit the food area. There is a strong interaction effect on food_type and respondent_gender. Some potential error is the dataset is slightly skewed."
   ]
  }
 ],
 "metadata": {
  "kernelspec": {
   "display_name": "Python 3",
   "language": "python",
   "name": "python3"
  },
  "language_info": {
   "codemirror_mode": {
    "name": "ipython",
    "version": 3
   },
   "file_extension": ".py",
   "mimetype": "text/x-python",
   "name": "python",
   "nbconvert_exporter": "python",
   "pygments_lexer": "ipython3",
   "version": "3.10.4"
  },
  "orig_nbformat": 4
 },
 "nbformat": 4,
 "nbformat_minor": 2
}
