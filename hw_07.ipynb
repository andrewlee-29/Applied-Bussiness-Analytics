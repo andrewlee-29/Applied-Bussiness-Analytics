{
 "cells": [
  {
   "attachments": {},
   "cell_type": "markdown",
   "metadata": {},
   "source": [
    "# HW_07 Andrew Lee"
   ]
  },
  {
   "attachments": {},
   "cell_type": "markdown",
   "metadata": {},
   "source": [
    "## Is there a statistically significant difference in wine bottle cost by wine class? Is this difference impacted when using alcohol percentage as a covariant? Other covariants to investigate: alcohol percentage; color; and hue."
   ]
  },
  {
   "attachments": {},
   "cell_type": "markdown",
   "metadata": {},
   "source": [
    "#### Import Data"
   ]
  },
  {
   "cell_type": "code",
   "execution_count": 1,
   "metadata": {},
   "outputs": [
    {
     "data": {
      "text/html": [
       "<div>\n",
       "<style scoped>\n",
       "    .dataframe tbody tr th:only-of-type {\n",
       "        vertical-align: middle;\n",
       "    }\n",
       "\n",
       "    .dataframe tbody tr th {\n",
       "        vertical-align: top;\n",
       "    }\n",
       "\n",
       "    .dataframe thead th {\n",
       "        text-align: right;\n",
       "    }\n",
       "</style>\n",
       "<table border=\"1\" class=\"dataframe\">\n",
       "  <thead>\n",
       "    <tr style=\"text-align: right;\">\n",
       "      <th></th>\n",
       "      <th>Class</th>\n",
       "      <th>Alcohol</th>\n",
       "      <th>Malic acid</th>\n",
       "      <th>Ash</th>\n",
       "      <th>Alcalinity of ash</th>\n",
       "      <th>Magnesium</th>\n",
       "      <th>Total phenols</th>\n",
       "      <th>Flavanoids</th>\n",
       "      <th>Nonflavanoid phenols</th>\n",
       "      <th>Proanthocyanins</th>\n",
       "      <th>Color_intensity</th>\n",
       "      <th>Hue</th>\n",
       "      <th>OD280/OD315 of diluted wines</th>\n",
       "      <th>price_usd</th>\n",
       "    </tr>\n",
       "  </thead>\n",
       "  <tbody>\n",
       "    <tr>\n",
       "      <th>0</th>\n",
       "      <td>1</td>\n",
       "      <td>14.23</td>\n",
       "      <td>1.71</td>\n",
       "      <td>2.43</td>\n",
       "      <td>15.6</td>\n",
       "      <td>127</td>\n",
       "      <td>2.80</td>\n",
       "      <td>3.06</td>\n",
       "      <td>0.28</td>\n",
       "      <td>2.29</td>\n",
       "      <td>5.64</td>\n",
       "      <td>1.04</td>\n",
       "      <td>3.92</td>\n",
       "      <td>1065</td>\n",
       "    </tr>\n",
       "    <tr>\n",
       "      <th>1</th>\n",
       "      <td>1</td>\n",
       "      <td>13.20</td>\n",
       "      <td>1.78</td>\n",
       "      <td>2.14</td>\n",
       "      <td>11.2</td>\n",
       "      <td>100</td>\n",
       "      <td>2.65</td>\n",
       "      <td>2.76</td>\n",
       "      <td>0.26</td>\n",
       "      <td>1.28</td>\n",
       "      <td>4.38</td>\n",
       "      <td>1.05</td>\n",
       "      <td>3.40</td>\n",
       "      <td>1050</td>\n",
       "    </tr>\n",
       "    <tr>\n",
       "      <th>2</th>\n",
       "      <td>1</td>\n",
       "      <td>13.16</td>\n",
       "      <td>2.36</td>\n",
       "      <td>2.67</td>\n",
       "      <td>18.6</td>\n",
       "      <td>101</td>\n",
       "      <td>2.80</td>\n",
       "      <td>3.24</td>\n",
       "      <td>0.30</td>\n",
       "      <td>2.81</td>\n",
       "      <td>5.68</td>\n",
       "      <td>1.03</td>\n",
       "      <td>3.17</td>\n",
       "      <td>1185</td>\n",
       "    </tr>\n",
       "    <tr>\n",
       "      <th>3</th>\n",
       "      <td>1</td>\n",
       "      <td>14.37</td>\n",
       "      <td>1.95</td>\n",
       "      <td>2.50</td>\n",
       "      <td>16.8</td>\n",
       "      <td>113</td>\n",
       "      <td>3.85</td>\n",
       "      <td>3.49</td>\n",
       "      <td>0.24</td>\n",
       "      <td>2.18</td>\n",
       "      <td>7.80</td>\n",
       "      <td>0.86</td>\n",
       "      <td>3.45</td>\n",
       "      <td>1480</td>\n",
       "    </tr>\n",
       "    <tr>\n",
       "      <th>4</th>\n",
       "      <td>1</td>\n",
       "      <td>13.24</td>\n",
       "      <td>2.59</td>\n",
       "      <td>2.87</td>\n",
       "      <td>21.0</td>\n",
       "      <td>118</td>\n",
       "      <td>2.80</td>\n",
       "      <td>2.69</td>\n",
       "      <td>0.39</td>\n",
       "      <td>1.82</td>\n",
       "      <td>4.32</td>\n",
       "      <td>1.04</td>\n",
       "      <td>2.93</td>\n",
       "      <td>735</td>\n",
       "    </tr>\n",
       "  </tbody>\n",
       "</table>\n",
       "</div>"
      ],
      "text/plain": [
       "   Class  Alcohol  Malic acid   Ash  Alcalinity of ash  Magnesium  \\\n",
       "0      1    14.23        1.71  2.43               15.6        127   \n",
       "1      1    13.20        1.78  2.14               11.2        100   \n",
       "2      1    13.16        2.36  2.67               18.6        101   \n",
       "3      1    14.37        1.95  2.50               16.8        113   \n",
       "4      1    13.24        2.59  2.87               21.0        118   \n",
       "\n",
       "   Total phenols  Flavanoids  Nonflavanoid phenols  Proanthocyanins  \\\n",
       "0           2.80        3.06                  0.28             2.29   \n",
       "1           2.65        2.76                  0.26             1.28   \n",
       "2           2.80        3.24                  0.30             2.81   \n",
       "3           3.85        3.49                  0.24             2.18   \n",
       "4           2.80        2.69                  0.39             1.82   \n",
       "\n",
       "   Color_intensity   Hue  OD280/OD315 of diluted wines  price_usd  \n",
       "0             5.64  1.04                          3.92       1065  \n",
       "1             4.38  1.05                          3.40       1050  \n",
       "2             5.68  1.03                          3.17       1185  \n",
       "3             7.80  0.86                          3.45       1480  \n",
       "4             4.32  1.04                          2.93        735  "
      ]
     },
     "execution_count": 1,
     "metadata": {},
     "output_type": "execute_result"
    }
   ],
   "source": [
    "# import necessary libraries\n",
    "import pandas as pd\n",
    "import statsmodels.api as sm\n",
    "from statsmodels.formula.api import ols\n",
    "import matplotlib.pyplot as plt\n",
    "import seaborn as sns\n",
    "import scipy.stats as stats\n",
    "\n",
    "\n",
    "df = pd.read_csv('./dataset/wentworth_applied_analytics - wine.csv.csv')\n",
    "\n",
    "df = df.rename(columns={'Color intensity': 'Color_intensity'})\n",
    "df.head()"
   ]
  },
  {
   "cell_type": "code",
   "execution_count": 64,
   "metadata": {},
   "outputs": [
    {
     "name": "stdout",
     "output_type": "stream",
     "text": [
      "Fig1. Box plot (Price with classes) \n"
     ]
    },
    {
     "data": {
      "text/plain": [
       "Text(0, 0.5, 'price_usd')"
      ]
     },
     "execution_count": 64,
     "metadata": {},
     "output_type": "execute_result"
    },
    {
     "data": {
      "image/png": "[encoded data removed]",
      "text/plain": [
       "<Figure size 432x288 with 1 Axes>"
      ]
     },
     "metadata": {
      "needs_background": "light"
     },
     "output_type": "display_data"
    }
   ],
   "source": [
    "print(\"Fig1. Box plot (Price with classes) \")\n",
    "df.boxplot(column='price_usd', by='Class')\n",
    "plt.xlabel('Class')\n",
    "plt.ylabel('price_usd')\n"
   ]
  },
  {
   "attachments": {},
   "cell_type": "markdown",
   "metadata": {},
   "source": [
    "From the box plot(Fig. 1), we found out there is a obvious differences between the means for each class. But we need to apply ANOVA test to see if the difference is statistically significant."
   ]
  },
  {
   "attachments": {},
   "cell_type": "markdown",
   "metadata": {},
   "source": [
    "#### Apply ANVOA test"
   ]
  },
  {
   "cell_type": "code",
   "execution_count": 65,
   "metadata": {},
   "outputs": [
    {
     "name": "stdout",
     "output_type": "stream",
     "text": [
      "                            OLS Regression Results                            \n",
      "==============================================================================\n",
      "Dep. Variable:              price_usd   R-squared:                       0.402\n",
      "Model:                            OLS   Adj. R-squared:                  0.398\n",
      "Method:                 Least Squares   F-statistic:                     118.1\n",
      "Date:                Tue, 28 Feb 2023   Prob (F-statistic):           2.23e-21\n",
      "Time:                        20:43:42   Log-Likelihood:                -1230.3\n",
      "No. Observations:                 178   AIC:                             2465.\n",
      "Df Residuals:                     176   BIC:                             2471.\n",
      "Df Model:                           1                                         \n",
      "Covariance Type:            nonrobust                                         \n",
      "==============================================================================\n",
      "                 coef    std err          t      P>|t|      [0.025      0.975]\n",
      "------------------------------------------------------------------------------\n",
      "Intercept   1245.9569     49.436     25.203      0.000    1148.393    1343.521\n",
      "Class       -257.4879     23.692    -10.868      0.000    -304.245    -210.731\n",
      "==============================================================================\n",
      "Omnibus:                        7.337   Durbin-Watson:                   0.857\n",
      "Prob(Omnibus):                  0.026   Jarque-Bera (JB):                3.883\n",
      "Skew:                           0.122   Prob(JB):                        0.143\n",
      "Kurtosis:                       2.319   Cond. No.                         6.78\n",
      "==============================================================================\n",
      "\n",
      "Notes:\n",
      "[1] Standard Errors assume that the covariance matrix of the errors is correctly specified.\n"
     ]
    }
   ],
   "source": [
    "# fit a one-way ANOVA model with independent variable 'group' and dependent variable 'outcome'\n",
    "# 'outcome' is the dependent variable and 'group','outcome' is the independent variable\n",
    "model1 = ols('price_usd ~ Class', data=df).fit()\n",
    "print(model1.summary())"
   ]
  },
  {
   "cell_type": "code",
   "execution_count": 66,
   "metadata": {},
   "outputs": [
    {
     "name": "stdout",
     "output_type": "stream",
     "text": [
      "                sum_sq     df           F        PR(>F)\n",
      "Class     7.049034e+06    1.0  118.116155  2.231319e-21\n",
      "Residual  1.050347e+07  176.0         NaN           NaN\n",
      "\n",
      "p-value: 2.231319169403489e-21\n",
      "There is a significant difference between the means in wine bottle cost by wine class.\n"
     ]
    }
   ],
   "source": [
    "anova_table = sm.stats.anova_lm(model1, typ=2)\n",
    "print(anova_table)\n",
    "print()\n",
    "pv = anova_table['PR(>F)'][0]\n",
    "print('p-value:',pv)\n",
    "\n",
    "if pv < 0.05:\n",
    "    print(\"There is a significant difference between the means in wine bottle cost by wine class.\")\n",
    "else:\n",
    "    print(\"There is no significant difference between the means in wine bottle cost by wine class.\")"
   ]
  },
  {
   "attachments": {},
   "cell_type": "markdown",
   "metadata": {},
   "source": [
    "Since the p-value is less than 0.5, we will say there is a significant difference between the means of the data sets."
   ]
  },
  {
   "attachments": {},
   "cell_type": "markdown",
   "metadata": {},
   "source": [
    "#### Checking fundamental assumption"
   ]
  },
  {
   "cell_type": "code",
   "execution_count": 67,
   "metadata": {},
   "outputs": [
    {
     "data": {
      "image/png": "[encoded data removed]",
      "text/plain": [
       "<Figure size 432x288 with 1 Axes>"
      ]
     },
     "metadata": {
      "needs_background": "light"
     },
     "output_type": "display_data"
    }
   ],
   "source": [
    "import seaborn as sns\n",
    "X =df['Class']\n",
    "y=df['price_usd']\n",
    "y_pred = model1.predict(X)\n",
    "residuals = y - y_pred\n",
    "\n",
    "# Plot the residuals\n",
    "stats.probplot(residuals, plot=plt)\n",
    "plt.title(\"Fig 2 Probability plot for price_usd vs Class \")\n",
    "plt.show()\n"
   ]
  },
  {
   "attachments": {},
   "cell_type": "markdown",
   "metadata": {},
   "source": [
    "From Fig 2 probability plot, we can see the left tail data point are off the distribution, but the right tail datapoint are on the distribution. We can conclue the residuals are sightly not normally distributed."
   ]
  },
  {
   "attachments": {},
   "cell_type": "markdown",
   "metadata": {},
   "source": [
    "## ANCOVA Test with alcohol percentage, color, and hue."
   ]
  },
  {
   "attachments": {},
   "cell_type": "markdown",
   "metadata": {},
   "source": [
    "### Alcohol percentage"
   ]
  },
  {
   "cell_type": "code",
   "execution_count": 68,
   "metadata": {},
   "outputs": [
    {
     "data": {
      "image/png": "[encoded data removed]",
      "text/plain": [
       "<Figure size 432x288 with 1 Axes>"
      ]
     },
     "metadata": {
      "needs_background": "light"
     },
     "output_type": "display_data"
    }
   ],
   "source": [
    "plt.scatter(df.price_usd, df.Alcohol)\n",
    "plt.xlabel('Alcohol')\n",
    "plt.ylabel('price_usd')\n",
    "plt.title(\"Fig 3 Scatter plot for price vs Alcohol\")\n",
    "plt.show()"
   ]
  },
  {
   "attachments": {},
   "cell_type": "markdown",
   "metadata": {},
   "source": [
    "In Fig 3 scatter plot, the dependent variable is the price_usd and the conriate is Alcohol. we can see there is a positive trend between price and alcohol, but the data are not clusted and spreaded. \n",
    "Therefore, we can conclude both varaiables aren't linear and dependent."
   ]
  },
  {
   "cell_type": "code",
   "execution_count": 69,
   "metadata": {},
   "outputs": [
    {
     "name": "stdout",
     "output_type": "stream",
     "text": [
      "ANCOVA Test with alcohol percentage\n",
      "p-value: 6.1634717983467525e-37\n",
      "There is a significant difference between the means in wine bottle cost by wine class.\n"
     ]
    }
   ],
   "source": [
    "# Use the \"price_usd\" column as the dependent variable, the \"Class\" column as the independent variable, and the \"Alcohol\" column as the covariate\n",
    "formula = \"price_usd ~ Class + Alcohol\"\n",
    "# Fit an OLS model to the data\n",
    "model2 = ols(formula, df).fit()\n",
    "# Extract the F-value and p-value from the summary\n",
    "f_value = model2.fvalue\n",
    "p_value = model2.f_pvalue\n",
    "print(\"ANCOVA Test with alcohol percentage\")\n",
    "print(f\"p-value: {p_value}\")\n",
    "if pv < 0.05:\n",
    "    print(\"There is a significant difference between the means in wine bottle cost by wine class.\")\n",
    "else:\n",
    "    print(\"There is no significant difference between the means in wine bottle cost by wine class.\")"
   ]
  },
  {
   "attachments": {},
   "cell_type": "markdown",
   "metadata": {},
   "source": [
    "#### Checking fundamental assumption"
   ]
  },
  {
   "cell_type": "code",
   "execution_count": 77,
   "metadata": {},
   "outputs": [
    {
     "data": {
      "image/png": "[encoded data removed]",
      "text/plain": [
       "<Figure size 432x288 with 1 Axes>"
      ]
     },
     "metadata": {
      "needs_background": "light"
     },
     "output_type": "display_data"
    }
   ],
   "source": [
    "import seaborn as sns\n",
    "X =df[['Class','Alcohol']]\n",
    "y=df['price_usd']\n",
    "y_pred = model2.predict(X)\n",
    "residuals = y - y_pred\n",
    "\n",
    "# Plot the residuals\n",
    "stats.probplot(residuals, plot=plt)\n",
    "plt.title(\"Fig 4 Probability plot for price_usd vs Class and Alcohol \")\n",
    "plt.show()\n"
   ]
  },
  {
   "attachments": {},
   "cell_type": "markdown",
   "metadata": {},
   "source": [
    "From Fig 4 probability plot, we can see the data point are off the distribution. We can conclue the residuals are normally distributed."
   ]
  },
  {
   "attachments": {},
   "cell_type": "markdown",
   "metadata": {},
   "source": [
    "### Color"
   ]
  },
  {
   "attachments": {},
   "cell_type": "markdown",
   "metadata": {},
   "source": [
    "There is a significant difference between the means in wine bottle cost by wine class, and the differences isn't impacted by the the use of covariate (alcohol percentage)"
   ]
  },
  {
   "cell_type": "code",
   "execution_count": 79,
   "metadata": {},
   "outputs": [
    {
     "data": {
      "text/plain": [
       "Text(0, 0.5, 'price_usd')"
      ]
     },
     "execution_count": 79,
     "metadata": {},
     "output_type": "execute_result"
    },
    {
     "data": {
      "image/png": "[encoded data removed]",
      "text/plain": [
       "<Figure size 432x288 with 1 Axes>"
      ]
     },
     "metadata": {
      "needs_background": "light"
     },
     "output_type": "display_data"
    }
   ],
   "source": [
    "plt.scatter(df.price_usd, df.Color_intensity)\n",
    "plt.xlabel('Color_intensity')\n",
    "plt.title(\"Fig 5 Scatter plot for price vs Color\")\n",
    "plt.ylabel('price_usd')"
   ]
  },
  {
   "attachments": {},
   "cell_type": "markdown",
   "metadata": {},
   "source": [
    "In Fig 5 scatter plot, the dependent variable is the price_usd and the conriate is Color. we can see there is a no trend between price and color, Therefore, we can conclude both varaiables aren't linear and dependent."
   ]
  },
  {
   "cell_type": "code",
   "execution_count": 72,
   "metadata": {},
   "outputs": [
    {
     "name": "stdout",
     "output_type": "stream",
     "text": [
      "ANCOVA Test with color\n",
      "p-value: 4.529335598446439e-41\n",
      "There is a significant difference between the means in wine bottle cost by wine class.\n"
     ]
    }
   ],
   "source": [
    "# Use the \"price_usd\" column as the dependent variable, the \"Class\" column as the independent variable, and the \"Color\" column as the covariate\n",
    "formula = \"price_usd ~ Class + Color_intensity\"\n",
    "# Fit an OLS model to the data\n",
    "model3 = ols(formula, df).fit()\n",
    "# Extract the F-value and p-value from the summary\n",
    "p_value = model3.f_pvalue\n",
    "print(\"ANCOVA Test with color\")\n",
    "print(f\"p-value: {p_value}\")\n",
    "if pv < 0.05:\n",
    "    print(\"There is a significant difference between the means in wine bottle cost by wine class.\")\n",
    "else:\n",
    "    print(\"There is no significant difference between the means in wine bottle cost by wine class.\")"
   ]
  },
  {
   "cell_type": "markdown",
   "metadata": {},
   "source": [
    "#### Checking fundamental assumption"
   ]
  },
  {
   "cell_type": "code",
   "execution_count": 78,
   "metadata": {},
   "outputs": [
    {
     "data": {
      "image/png": "[encoded data removed]",
      "text/plain": [
       "<Figure size 432x288 with 1 Axes>"
      ]
     },
     "metadata": {
      "needs_background": "light"
     },
     "output_type": "display_data"
    }
   ],
   "source": [
    "import seaborn as sns\n",
    "X =df[['Class','Color_intensity']]\n",
    "y=df['price_usd']\n",
    "y_pred = model3.predict(X)\n",
    "residuals = y - y_pred\n",
    "\n",
    "# Plot the residuals\n",
    "stats.probplot(residuals, plot=plt)\n",
    "plt.title(\"Fig 6 Probability plot for price_usd vs Class and Alcohol \")\n",
    "plt.show()\n"
   ]
  },
  {
   "attachments": {},
   "cell_type": "markdown",
   "metadata": {},
   "source": [
    "From Fig 6 probability plot, we can see the left tail data point are off the distribution, but the right tail datapoint are on the distribution. We can conclue the residuals are sightly not normally distributed."
   ]
  },
  {
   "attachments": {},
   "cell_type": "markdown",
   "metadata": {},
   "source": [
    "### Hue"
   ]
  },
  {
   "attachments": {},
   "cell_type": "markdown",
   "metadata": {},
   "source": [
    "There is a significant difference between the means in wine bottle cost by wine class, and the differences isn't impacted by the the use of covariate (Color intensity)"
   ]
  },
  {
   "cell_type": "code",
   "execution_count": 74,
   "metadata": {},
   "outputs": [
    {
     "data": {
      "text/plain": [
       "Text(0, 0.5, 'price_usd')"
      ]
     },
     "execution_count": 74,
     "metadata": {},
     "output_type": "execute_result"
    },
    {
     "data": {
      "image/png": "[encoded data removed]",
      "text/plain": [
       "<Figure size 432x288 with 1 Axes>"
      ]
     },
     "metadata": {
      "needs_background": "light"
     },
     "output_type": "display_data"
    }
   ],
   "source": [
    "plt.scatter(df.price_usd, df.Hue)\n",
    "plt.xlabel('Hue')\n",
    "plt.title (\"Fig 7 Scatter plot for price vs Hue\")\n",
    "plt.ylabel('price_usd')"
   ]
  },
  {
   "attachments": {},
   "cell_type": "markdown",
   "metadata": {},
   "source": [
    "In Fig 7 scatter plot, the dependent variable is the price_usd and the conriate is Hue. we can see there is a no trend between price and color, Therefore, we can conclude both varaiables aren't linear and dependent."
   ]
  },
  {
   "cell_type": "code",
   "execution_count": 75,
   "metadata": {},
   "outputs": [
    {
     "name": "stdout",
     "output_type": "stream",
     "text": [
      "ANCOVA Test with Hue\n",
      "p-value: 8.633826665110048e-23\n",
      "There is a significant difference between the means in wine bottle cost by wine class.\n"
     ]
    }
   ],
   "source": [
    "# Use the \"price_usd\" column as the dependent variable, the \"Class\" column as the independent variable, and the \"Hue\" column as the covariate\n",
    "formula = \"price_usd ~ Class + Hue\"\n",
    "# Fit an OLS model to the data\n",
    "model4 = ols(formula, df).fit()\n",
    "# Extract the F-value and p-value from the summary\n",
    "p_value = model4.f_pvalue\n",
    "print(\"ANCOVA Test with Hue\")\n",
    "print(f\"p-value: {p_value}\")\n",
    "if pv < 0.05:\n",
    "    print(\"There is a significant difference between the means in wine bottle cost by wine class.\")\n",
    "else:\n",
    "    print(\"There is no significant difference between the means in wine bottle cost by wine class.\")"
   ]
  },
  {
   "cell_type": "markdown",
   "metadata": {},
   "source": [
    "#### Checking fundamental assumption"
   ]
  },
  {
   "cell_type": "code",
   "execution_count": 76,
   "metadata": {},
   "outputs": [
    {
     "data": {
      "image/png": "[encoded data removed]",
      "text/plain": [
       "<Figure size 432x288 with 1 Axes>"
      ]
     },
     "metadata": {
      "needs_background": "light"
     },
     "output_type": "display_data"
    }
   ],
   "source": [
    "import seaborn as sns\n",
    "X =df[['Class','Hue']]\n",
    "y=df['price_usd']\n",
    "y_pred = model4.predict(X)\n",
    "residuals = y - y_pred\n",
    "\n",
    "# Plot the residuals\n",
    "stats.probplot(residuals, plot=plt)\n",
    "plt.title(\"Fig 8 Probability plot for price_usd vs Class and Alcohol \")\n",
    "plt.show()\n"
   ]
  },
  {
   "attachments": {},
   "cell_type": "markdown",
   "metadata": {},
   "source": [
    "From Fig 8 probability plot, we can see the left tail data point are off the distribution, but the right tail datapoint are on the distribution. We can conclue the residuals are sightly not normally distributed."
   ]
  },
  {
   "attachments": {},
   "cell_type": "markdown",
   "metadata": {},
   "source": [
    "There is a significant difference between the means in wine bottle cost by wine class, and the differences isn't impacted by the the use of covariate (Hue)"
   ]
  },
  {
   "attachments": {},
   "cell_type": "markdown",
   "metadata": {},
   "source": [
    "## Conclusion"
   ]
  },
  {
   "attachments": {},
   "cell_type": "markdown",
   "metadata": {},
   "source": [
    "In conclusion, there is a significant difference between the means in wine bottle cost by wine class, and the differences aren't impacted by the use of covariates (alcohol percentage, color intensity, and hue). But alcohol percentage has a hidden positive trend and it may represent a probability that the wine price and alcohol have a dependent relationship."
   ]
  }
 ],
 "metadata": {
  "kernelspec": {
   "display_name": "Python 3",
   "language": "python",
   "name": "python3"
  },
  "language_info": {
   "codemirror_mode": {
    "name": "ipython",
    "version": 3
   },
   "file_extension": ".py",
   "mimetype": "text/x-python",
   "name": "python",
   "nbconvert_exporter": "python",
   "pygments_lexer": "ipython3",
   "version": "3.10.4"
  },
  "orig_nbformat": 4,
  "vscode": {
   "interpreter": {
    "hash": "6847c98a8f86b01c6a19c518cd2f366693b80566b266804d5ca763cbb223f52b"
   }
  }
 },
 "nbformat": 4,
 "nbformat_minor": 2
}
