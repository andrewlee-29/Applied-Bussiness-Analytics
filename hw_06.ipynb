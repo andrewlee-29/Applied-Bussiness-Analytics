{
 "cells": [
  {
   "attachments": {},
   "cell_type": "markdown",
   "metadata": {},
   "source": [
    "# HW_06 by Andrew Lee"
   ]
  },
  {
   "attachments": {},
   "cell_type": "markdown",
   "metadata": {},
   "source": [
    "Import Data"
   ]
  },
  {
   "cell_type": "code",
   "execution_count": 6,
   "metadata": {},
   "outputs": [
    {
     "data": {
      "text/html": [
       "<div>\n",
       "<style scoped>\n",
       "    .dataframe tbody tr th:only-of-type {\n",
       "        vertical-align: middle;\n",
       "    }\n",
       "\n",
       "    .dataframe tbody tr th {\n",
       "        vertical-align: top;\n",
       "    }\n",
       "\n",
       "    .dataframe thead th {\n",
       "        text-align: right;\n",
       "    }\n",
       "</style>\n",
       "<table border=\"1\" class=\"dataframe\">\n",
       "  <thead>\n",
       "    <tr style=\"text-align: right;\">\n",
       "      <th></th>\n",
       "      <th>application_number</th>\n",
       "      <th>funding_year</th>\n",
       "      <th>state</th>\n",
       "      <th>form_version</th>\n",
       "      <th>window_status</th>\n",
       "      <th>status</th>\n",
       "      <th>category</th>\n",
       "      <th>application_name</th>\n",
       "      <th>address1</th>\n",
       "      <th>city</th>\n",
       "      <th>...</th>\n",
       "      <th>applicant_type</th>\n",
       "      <th>enrollment</th>\n",
       "      <th>nslp_count</th>\n",
       "      <th>nslp_percent</th>\n",
       "      <th>locale</th>\n",
       "      <th>request_amount</th>\n",
       "      <th>congress_district</th>\n",
       "      <th>locale_Rural</th>\n",
       "      <th>locale_Urban</th>\n",
       "      <th>status_Certified</th>\n",
       "    </tr>\n",
       "  </thead>\n",
       "  <tbody>\n",
       "    <tr>\n",
       "      <th>0</th>\n",
       "      <td>201001330</td>\n",
       "      <td>2020</td>\n",
       "      <td>OH</td>\n",
       "      <td>Original</td>\n",
       "      <td>In Window</td>\n",
       "      <td>Certified</td>\n",
       "      <td>Category1</td>\n",
       "      <td>Bath Local School</td>\n",
       "      <td>2650 Bible Rd</td>\n",
       "      <td>Lima</td>\n",
       "      <td>...</td>\n",
       "      <td>School District</td>\n",
       "      <td>1716</td>\n",
       "      <td>759</td>\n",
       "      <td>44.0</td>\n",
       "      <td>Urban</td>\n",
       "      <td>15840.00</td>\n",
       "      <td>Congressional District 4</td>\n",
       "      <td>0</td>\n",
       "      <td>1</td>\n",
       "      <td>1</td>\n",
       "    </tr>\n",
       "    <tr>\n",
       "      <th>1</th>\n",
       "      <td>201001293</td>\n",
       "      <td>2020</td>\n",
       "      <td>OH</td>\n",
       "      <td>Original</td>\n",
       "      <td>In Window</td>\n",
       "      <td>Certified</td>\n",
       "      <td>Category1</td>\n",
       "      <td>Federal Hocking Local Sch Dist</td>\n",
       "      <td>8461 State Route 144</td>\n",
       "      <td>Stewart</td>\n",
       "      <td>...</td>\n",
       "      <td>School District</td>\n",
       "      <td>1041</td>\n",
       "      <td>746</td>\n",
       "      <td>72.0</td>\n",
       "      <td>Rural</td>\n",
       "      <td>40643.52</td>\n",
       "      <td>Congressional District 15</td>\n",
       "      <td>1</td>\n",
       "      <td>0</td>\n",
       "      <td>1</td>\n",
       "    </tr>\n",
       "    <tr>\n",
       "      <th>2</th>\n",
       "      <td>201000596</td>\n",
       "      <td>2020</td>\n",
       "      <td>OH</td>\n",
       "      <td>Original</td>\n",
       "      <td>In Window</td>\n",
       "      <td>Certified</td>\n",
       "      <td>Category1</td>\n",
       "      <td>Independence School District</td>\n",
       "      <td>7733 Stone Rd</td>\n",
       "      <td>Cleveland</td>\n",
       "      <td>...</td>\n",
       "      <td>School District</td>\n",
       "      <td>1029</td>\n",
       "      <td>90</td>\n",
       "      <td>9.0</td>\n",
       "      <td>Urban</td>\n",
       "      <td>15160.03</td>\n",
       "      <td>Congressional District 14</td>\n",
       "      <td>0</td>\n",
       "      <td>1</td>\n",
       "      <td>1</td>\n",
       "    </tr>\n",
       "  </tbody>\n",
       "</table>\n",
       "<p>3 rows × 23 columns</p>\n",
       "</div>"
      ],
      "text/plain": [
       "   application_number  funding_year state form_version window_status  \\\n",
       "0           201001330          2020    OH     Original     In Window   \n",
       "1           201001293          2020    OH     Original     In Window   \n",
       "2           201000596          2020    OH     Original     In Window   \n",
       "\n",
       "      status   category                application_name              address1  \\\n",
       "0  Certified  Category1               Bath Local School         2650 Bible Rd   \n",
       "1  Certified  Category1  Federal Hocking Local Sch Dist  8461 State Route 144   \n",
       "2  Certified  Category1    Independence School District         7733 Stone Rd   \n",
       "\n",
       "        city  ...   applicant_type  enrollment  nslp_count nslp_percent  \\\n",
       "0       Lima  ...  School District        1716         759         44.0   \n",
       "1    Stewart  ...  School District        1041         746         72.0   \n",
       "2  Cleveland  ...  School District        1029          90          9.0   \n",
       "\n",
       "   locale  request_amount          congress_district locale_Rural  \\\n",
       "0   Urban        15840.00   Congressional District 4            0   \n",
       "1   Rural        40643.52  Congressional District 15            1   \n",
       "2   Urban        15160.03  Congressional District 14            0   \n",
       "\n",
       "   locale_Urban status_Certified  \n",
       "0             1                1  \n",
       "1             0                1  \n",
       "2             1                1  \n",
       "\n",
       "[3 rows x 23 columns]"
      ]
     },
     "execution_count": 6,
     "metadata": {},
     "output_type": "execute_result"
    }
   ],
   "source": [
    "from sklearn.linear_model import LogisticRegression\n",
    "from sklearn.metrics import confusion_matrix, classification_report, r2_score\n",
    "import numpy as np\n",
    "import matplotlib.pyplot as plt\n",
    "import pandas as pd\n",
    "\n",
    "df = pd.read_csv('./dataset/wentworth_applied_analytics - segmentation.csv.csv')\n",
    "\n",
    "# df[['web1_session', 'web2_repeat_visit', 'cart3_items', 'cart4_checkout']] = df[['web1_session', 'web2_repeat_visit', 'cart3_items', 'cart4_checkout']].astype(int)\n",
    "# remove non-numeric character\n",
    "df['request_amount'] = [float(x[1:].replace(',', '')) for x in df['request_amount']]\n",
    "df['nslp_percent'] = [float(x[:-1].replace(',', '')) for x in df['nslp_percent']]\n",
    "# exchange dummy var\n",
    "indep_df = pd.get_dummies(df[['locale','status']])\n",
    "df=pd.concat([df, indep_df], axis=1)\n",
    "df.head(3)"
   ]
  },
  {
   "attachments": {},
   "cell_type": "markdown",
   "metadata": {},
   "source": [
    "## Are there statistically significant or experimentally important differences based on the “status” of an application for the following dependent variables: enrollment, nslp_count, nslp_percent, and request_amount?"
   ]
  },
  {
   "attachments": {},
   "cell_type": "markdown",
   "metadata": {},
   "source": [
    "Assume the the significance level is 0.05"
   ]
  },
  {
   "attachments": {},
   "cell_type": "markdown",
   "metadata": {},
   "source": [
    "#### ANOVA Test with dependenet variable(locate)"
   ]
  },
  {
   "cell_type": "code",
   "execution_count": 20,
   "metadata": {},
   "outputs": [
    {
     "data": {
      "image/png": "[encoded data removed]",
      "text/plain": [
       "<Figure size 432x288 with 1 Axes>"
      ]
     },
     "metadata": {
      "needs_background": "light"
     },
     "output_type": "display_data"
    }
   ],
   "source": [
    "# Filter out records with current_spend equal to 0\n",
    "df.boxplot(column='enrollment', by='locale')\n",
    "plt.xlabel('locale')\n",
    "plt.ylabel('enrollment')\n",
    "plt.suptitle('')\n",
    "plt.title(\"Fig1. Box plot (enrollment with locale) \")\n",
    "plt.show()"
   ]
  },
  {
   "cell_type": "code",
   "execution_count": 76,
   "metadata": {},
   "outputs": [
    {
     "name": "stdout",
     "output_type": "stream",
     "text": [
      "enrollment\n",
      "                sum_sq     df          F        PR(>F)\n",
      "enrollment   21.899894    1.0  99.072914  4.530669e-22\n",
      "Residual    174.849161  791.0        NaN           NaN\n",
      "There is a significant difference between the means of the data sets.\n"
     ]
    }
   ],
   "source": [
    "# enrollment, nslp_count, nslp_percent, and request_amount \n",
    "print('enrollment')\n",
    "import statsmodels.api as sm\n",
    "from statsmodels.formula.api import ols\n",
    "# fit a one-way ANOVA model with independent variable 'group' and dependent variable 'outcome'\n",
    "model = ols('locale_Rural~enrollment',data=df).fit()\n",
    "# outcome variable = your dependent variable\n",
    "# groug variable = your dependent variable\n",
    "# not that the notation/syntax we are using for this package is slightly different from what you may be used to\n",
    "\n",
    "# perform an ANOVA on the model\n",
    "anova_table = sm.stats.anova_lm(model, typ=2)\n",
    "\n",
    "# print the result\n",
    "print(anova_table)\n",
    "pv = anova_table['PR(>F)'][0]\n",
    "\n",
    "if pv < 0.05:\n",
    "    print(\"There is a significant difference between the means of the data sets.\")\n",
    "else:\n",
    "    print(\"There is no significant difference between the means of the data sets.\")\n",
    "\n"
   ]
  },
  {
   "cell_type": "code",
   "execution_count": 23,
   "metadata": {},
   "outputs": [
    {
     "data": {
      "image/png": "[encoded data removed]",
      "text/plain": [
       "<Figure size 432x288 with 1 Axes>"
      ]
     },
     "metadata": {
      "needs_background": "light"
     },
     "output_type": "display_data"
    }
   ],
   "source": [
    "df.boxplot(column='nslp_count', by='locale')\n",
    "plt.xlabel('locale')\n",
    "plt.ylabel('nslp_count')\n",
    "plt.suptitle('')\n",
    "plt.title(\"Fig2. Box plot (nslp_count with locale) \")\n",
    "plt.show()"
   ]
  },
  {
   "cell_type": "code",
   "execution_count": 75,
   "metadata": {},
   "outputs": [
    {
     "name": "stdout",
     "output_type": "stream",
     "text": [
      "nslp_count\n",
      "                sum_sq     df          F        PR(>F)\n",
      "nslp_count    9.766639    1.0  41.316248  2.236804e-10\n",
      "Residual    186.982415  791.0        NaN           NaN\n",
      "There is a significant difference between the means of the data sets.\n"
     ]
    }
   ],
   "source": [
    "# enrollment, nslp_count, nslp_percent, and request_amount\n",
    "print('nslp_count')\n",
    "model = ols('locale_Rural~nslp_count',data=df).fit()\n",
    "\n",
    "anova_table = sm.stats.anova_lm(model, typ=2)\n",
    "\n",
    "print(anova_table)\n",
    "pv = anova_table['PR(>F)'][0]\n",
    "\n",
    "if pv < 0.05:\n",
    "    print(\"There is a significant difference between the means of the data sets.\")\n",
    "else:\n",
    "    print(\"There is no significant difference between the means of the data sets.\")"
   ]
  },
  {
   "cell_type": "code",
   "execution_count": 24,
   "metadata": {},
   "outputs": [
    {
     "data": {
      "image/png": "[encoded data removed]",
      "text/plain": [
       "<Figure size 432x288 with 1 Axes>"
      ]
     },
     "metadata": {
      "needs_background": "light"
     },
     "output_type": "display_data"
    }
   ],
   "source": [
    "df.boxplot(column='nslp_percent', by='locale')\n",
    "plt.xlabel('locale')\n",
    "plt.ylabel('nslp_percent')\n",
    "plt.suptitle('')\n",
    "plt.title(\"Fig3. Box plot (nslp_percent with locale) \")\n",
    "plt.show()"
   ]
  },
  {
   "cell_type": "code",
   "execution_count": 71,
   "metadata": {},
   "outputs": [
    {
     "name": "stdout",
     "output_type": "stream",
     "text": [
      "nslp_percent\n",
      "                  sum_sq     df         F    PR(>F)\n",
      "nslp_percent    1.924014    1.0  7.811599  0.005317\n",
      "Residual      194.825040  791.0       NaN       NaN\n",
      "There is a significant difference between the means of the data sets.\n"
     ]
    }
   ],
   "source": [
    "# enrollment, nslp_count, nslp_percent, and request_amount \n",
    "print('nslp_percent')\n",
    "model = ols('locale_Rural~nslp_percent',data=df).fit()\n",
    "\n",
    "anova_table = sm.stats.anova_lm(model, typ=2)\n",
    "\n",
    "print(anova_table)\n",
    "pv = anova_table['PR(>F)'][0]\n",
    "\n",
    "if pv < 0.05:\n",
    "    print(\"There is a significant difference between the means of the data sets.\")\n",
    "else:\n",
    "    print(\"There is no significant difference between the means of the data sets.\")"
   ]
  },
  {
   "cell_type": "code",
   "execution_count": 26,
   "metadata": {},
   "outputs": [
    {
     "data": {
      "image/png": "[encoded data removed]",
      "text/plain": [
       "<Figure size 432x288 with 1 Axes>"
      ]
     },
     "metadata": {
      "needs_background": "light"
     },
     "output_type": "display_data"
    }
   ],
   "source": [
    "\n",
    "df.boxplot(column='request_amount', by='locale')\n",
    "plt.xlabel('locale')\n",
    "plt.ylabel('request_amount')\n",
    "plt.suptitle('')\n",
    "plt.title(\"Fig4. Box plot (request_amount with locale) \")\n",
    "plt.show()"
   ]
  },
  {
   "cell_type": "code",
   "execution_count": 70,
   "metadata": {},
   "outputs": [
    {
     "name": "stdout",
     "output_type": "stream",
     "text": [
      "request_amount\n",
      "                    sum_sq     df          F    PR(>F)\n",
      "request_amount    3.566659    1.0  14.603958  0.000143\n",
      "Residual        193.182395  791.0        NaN       NaN\n",
      "There is a significant difference between the means of the data sets.\n"
     ]
    }
   ],
   "source": [
    "# enrollment, nslp_count, nslp_percent, and request_amount \n",
    "print('request_amount')\n",
    "model = ols('locale_Rural~request_amount',data=df).fit()\n",
    "\n",
    "anova_table = sm.stats.anova_lm(model, typ=2)\n",
    "\n",
    "print(anova_table)\n",
    "pv = anova_table['PR(>F)'][0]\n",
    "\n",
    "if pv < 0.05:\n",
    "    print(\"There is a significant difference between the means of the data sets.\")\n",
    "else:\n",
    "    print(\"There is no significant difference between the means of the data sets.\")"
   ]
  },
  {
   "attachments": {},
   "cell_type": "markdown",
   "metadata": {},
   "source": [
    "From above 4 anova results, there are significant difference based on the “locate” of an application for enrollment, nslp_count, nslp_percent, and request_amount."
   ]
  },
  {
   "attachments": {},
   "cell_type": "markdown",
   "metadata": {},
   "source": [
    "#### ANOVA Test with dependenet variable(status)"
   ]
  },
  {
   "cell_type": "code",
   "execution_count": 27,
   "metadata": {},
   "outputs": [
    {
     "data": {
      "image/png": "[encoded data removed]",
      "text/plain": [
       "<Figure size 432x288 with 1 Axes>"
      ]
     },
     "metadata": {
      "needs_background": "light"
     },
     "output_type": "display_data"
    }
   ],
   "source": [
    "\n",
    "df.boxplot(column='enrollment', by='status_Certified')\n",
    "plt.xlabel('status_Certified')\n",
    "plt.ylabel('enrollment')\n",
    "plt.suptitle('')\n",
    "plt.title(\"Fig5. Box plot (enrollment with status_Certified) \")\n",
    "plt.show()"
   ]
  },
  {
   "cell_type": "code",
   "execution_count": 77,
   "metadata": {},
   "outputs": [
    {
     "name": "stdout",
     "output_type": "stream",
     "text": [
      "enrollment\n",
      "                  sum_sq     df          F        PR(>F)\n",
      "enrollment  1.289607e-29    1.0  70.176069  2.461102e-16\n",
      "Residual    1.453599e-28  791.0        NaN           NaN\n",
      "There is a significant difference between the means of the data sets.\n"
     ]
    }
   ],
   "source": [
    "# enrollment, nslp_count, nslp_percent, and request_amount \n",
    "print('enrollment')\n",
    "model = ols('status_Certified~enrollment',data=df).fit()\n",
    "\n",
    "anova_table = sm.stats.anova_lm(model, typ=2)\n",
    "\n",
    "print(anova_table)\n",
    "pv = anova_table['PR(>F)'][0]\n",
    "\n",
    "if pv < 0.05:\n",
    "    print(\"There is a significant difference between the means of the data sets.\")\n",
    "else:\n",
    "    print(\"There is no significant difference between the means of the data sets.\")"
   ]
  },
  {
   "cell_type": "code",
   "execution_count": 28,
   "metadata": {},
   "outputs": [
    {
     "data": {
      "image/png": "[encoded data removed]",
      "text/plain": [
       "<Figure size 432x288 with 1 Axes>"
      ]
     },
     "metadata": {
      "needs_background": "light"
     },
     "output_type": "display_data"
    }
   ],
   "source": [
    "df.boxplot(column='nslp_count', by='status_Certified')\n",
    "plt.xlabel('status_Certified')\n",
    "plt.ylabel('nslp_count')\n",
    "plt.suptitle('')\n",
    "plt.title(\"Fig6. Box plot (nslp_count with status_Certified) \")\n",
    "plt.show()"
   ]
  },
  {
   "cell_type": "code",
   "execution_count": 78,
   "metadata": {},
   "outputs": [
    {
     "name": "stdout",
     "output_type": "stream",
     "text": [
      "nslp_count\n",
      "                  sum_sq     df         F   PR(>F)\n",
      "nslp_count  1.379360e-31    1.0  2.804765  0.09438\n",
      "Residual    3.890070e-29  791.0       NaN      NaN\n",
      "There is no significant difference between the means of the data sets.\n"
     ]
    }
   ],
   "source": [
    "# enrollment, nslp_count, nslp_percent, and request_amount \n",
    "print('nslp_count')\n",
    "model = ols('status_Certified~nslp_count',data=df).fit()\n",
    "\n",
    "anova_table = sm.stats.anova_lm(model, typ=2)\n",
    "\n",
    "print(anova_table)\n",
    "pv = anova_table['PR(>F)'][0]\n",
    "\n",
    "if pv < 0.05:\n",
    "    print(\"There is a significant difference between the means of the data sets.\")\n",
    "else:\n",
    "    print(\"There is no significant difference between the means of the data sets.\")"
   ]
  },
  {
   "cell_type": "code",
   "execution_count": 29,
   "metadata": {},
   "outputs": [
    {
     "data": {
      "image/png": "[encoded data removed]",
      "text/plain": [
       "<Figure size 432x288 with 1 Axes>"
      ]
     },
     "metadata": {
      "needs_background": "light"
     },
     "output_type": "display_data"
    }
   ],
   "source": [
    "df.boxplot(column='nslp_percent', by='status_Certified')\n",
    "plt.xlabel('status_Certified')\n",
    "plt.ylabel('nslp_percent')\n",
    "plt.suptitle('')\n",
    "plt.title(\"Fig6. Box plot (nslp_percent with status_Certified) \")\n",
    "plt.show()"
   ]
  },
  {
   "cell_type": "code",
   "execution_count": 79,
   "metadata": {},
   "outputs": [
    {
     "name": "stdout",
     "output_type": "stream",
     "text": [
      "nslp_percent\n",
      "                    sum_sq     df          F        PR(>F)\n",
      "nslp_percent  1.530101e-29    1.0  30.627579  4.252875e-08\n",
      "Residual      3.951700e-28  791.0        NaN           NaN\n",
      "There is a significant difference between the means of the data sets.\n"
     ]
    }
   ],
   "source": [
    "# enrollment, nslp_count, nslp_percent, and request_amount \n",
    "print('nslp_percent')\n",
    "model = ols('status_Certified~nslp_percent',data=df).fit()\n",
    "\n",
    "anova_table = sm.stats.anova_lm(model, typ=2)\n",
    "\n",
    "print(anova_table)\n",
    "pv = anova_table['PR(>F)'][0]\n",
    "\n",
    "if pv < 0.05:\n",
    "    print(\"There is a significant difference between the means of the data sets.\")\n",
    "else:\n",
    "    print(\"There is no significant difference between the means of the data sets.\")"
   ]
  },
  {
   "cell_type": "code",
   "execution_count": 30,
   "metadata": {},
   "outputs": [
    {
     "data": {
      "image/png": "[encoded data removed]",
      "text/plain": [
       "<Figure size 432x288 with 1 Axes>"
      ]
     },
     "metadata": {
      "needs_background": "light"
     },
     "output_type": "display_data"
    }
   ],
   "source": [
    "df.boxplot(column='request_amount', by='status_Certified')\n",
    "plt.xlabel('status_Certified')\n",
    "plt.ylabel('request_amount')\n",
    "plt.suptitle('')\n",
    "plt.title(\"Fig6. Box plot (request_amount with status_Certified) \")\n",
    "plt.show()"
   ]
  },
  {
   "cell_type": "code",
   "execution_count": 80,
   "metadata": {},
   "outputs": [
    {
     "name": "stdout",
     "output_type": "stream",
     "text": [
      "request_amount\n",
      "                      sum_sq     df         F    PR(>F)\n",
      "request_amount  7.843811e-32    1.0  1.594947  0.206993\n",
      "Residual        3.890070e-29  791.0       NaN       NaN\n",
      "There is no significant difference between the means of the data sets.\n"
     ]
    }
   ],
   "source": [
    "# enrollment, nslp_count, nslp_percent, and request_amount \n",
    "print('request_amount')\n",
    "model = ols('status_Certified~request_amount',data=df).fit()\n",
    "\n",
    "anova_table = sm.stats.anova_lm(model, typ=2)\n",
    "\n",
    "print(anova_table)\n",
    "pv = anova_table['PR(>F)'][0]\n",
    "\n",
    "if pv < 0.05:\n",
    "    print(\"There is a significant difference between the means of the data sets.\")\n",
    "else:\n",
    "    print(\"There is no significant difference between the means of the data sets.\")"
   ]
  },
  {
   "attachments": {},
   "cell_type": "markdown",
   "metadata": {},
   "source": [
    "From above 4 anova results, there are significant difference based on the “locate” of an application for nslp_percent and enrollment."
   ]
  }
 ],
 "metadata": {
  "kernelspec": {
   "display_name": "Python 3",
   "language": "python",
   "name": "python3"
  },
  "language_info": {
   "codemirror_mode": {
    "name": "ipython",
    "version": 3
   },
   "file_extension": ".py",
   "mimetype": "text/x-python",
   "name": "python",
   "nbconvert_exporter": "python",
   "pygments_lexer": "ipython3",
   "version": "3.10.4"
  },
  "orig_nbformat": 4,
  "vscode": {
   "interpreter": {
    "hash": "6847c98a8f86b01c6a19c518cd2f366693b80566b266804d5ca763cbb223f52b"
   }
  }
 },
 "nbformat": 4,
 "nbformat_minor": 2
}
