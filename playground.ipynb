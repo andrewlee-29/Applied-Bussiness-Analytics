{
 "cells": [
  {
   "attachments": {},
   "cell_type": "markdown",
   "metadata": {},
   "source": [
    "Import Data"
   ]
  },
  {
   "cell_type": "code",
   "execution_count": 5,
   "metadata": {},
   "outputs": [
    {
     "name": "stdout",
     "output_type": "stream",
     "text": [
      "   user_id  web1_session  web2_repeat_visit  cart1_value cart2_discount  \\\n",
      "0  A819610           904                  1         25.0           0.25   \n",
      "1  A356631           180                  0        113.0            NaN   \n",
      "2  A981711           120                  1        239.0            NaN   \n",
      "\n",
      "   cart3_items  cart4_checkout  \n",
      "0            4               1  \n",
      "1            6               0  \n",
      "2            3               0  \n"
     ]
    }
   ],
   "source": [
    "from sklearn.linear_model import LogisticRegression\n",
    "from sklearn.metrics import confusion_matrix, classification_report, r2_score\n",
    "import numpy as np\n",
    "import matplotlib.pyplot as plt\n",
    "import pandas as pd\n",
    "\n",
    "df = pd.read_csv('./wentworth_applied_analytics - cartabandonment.csv.csv')\n",
    "df[['web1_session', 'web2_repeat_visit', 'cart3_items', 'cart4_checkout']] = df[['web1_session', 'web2_repeat_visit', 'cart3_items', 'cart4_checkout']].astype(int)\n",
    "df['cart1_value'] = [float(x[1:].replace(',', '')) for x in df['cart1_value']]\n",
    "print(df.head(3))\n",
    "\n"
   ]
  },
  {
   "attachments": {},
   "cell_type": "markdown",
   "metadata": {},
   "source": [
    "Building Model "
   ]
  },
  {
   "cell_type": "markdown",
   "metadata": {},
   "source": []
  },
  {
   "cell_type": "code",
   "execution_count": 24,
   "metadata": {},
   "outputs": [
    {
     "name": "stdout",
     "output_type": "stream",
     "text": [
      "Confusion Matrix:\n",
      "               Predicted Negative  Predicted Positive\n",
      "True Negative                 481                  17\n",
      "True Positive                  32                 469\n",
      "Classification Report:\n",
      "              precision    recall  f1-score   support\n",
      "\n",
      "           0       0.94      0.97      0.95       498\n",
      "           1       0.97      0.94      0.95       501\n",
      "\n",
      "    accuracy                           0.95       999\n",
      "   macro avg       0.95      0.95      0.95       999\n",
      "weighted avg       0.95      0.95      0.95       999\n",
      "\n"
     ]
    }
   ],
   "source": [
    "\n",
    "X = df[['web1_session','cart1_value']]\n",
    "y= df['cart4_checkout']\n",
    "\n",
    "# create the model\n",
    "model = LogisticRegression()\n",
    "\n",
    "# fit the model to the training data\n",
    "model.fit(X, y)\n",
    "\n",
    "# predict the class labels\n",
    "y_pred = model.predict(X)\n",
    "\n",
    "# calculate the confusion matrix\n",
    "cm = confusion_matrix(y, y_pred)\n",
    "\n",
    "# create a DataFrame from the confusion matrix\n",
    "cm_df = pd.DataFrame(cm, index=['True Negative', 'True Positive'], columns=['Predicted Negative', 'Predicted Positive'])\n",
    "\n",
    "# print the confusion matrix\n",
    "print('Confusion Matrix:')\n",
    "print(cm_df)\n",
    "\n",
    "\n",
    "# check the classification report\n",
    "cr = classification_report(y, y_pred)\n",
    "print('Classification Report:')\n",
    "print(cr)"
   ]
  },
  {
   "cell_type": "code",
   "execution_count": 22,
   "metadata": {},
   "outputs": [
    {
     "name": "stdout",
     "output_type": "stream",
     "text": [
      "Classification Report:\n",
      "              precision    recall  f1-score   support\n",
      "\n",
      "           0       0.88      1.00      0.94       498\n",
      "           1       1.00      0.86      0.93       501\n",
      "\n",
      "    accuracy                           0.93       999\n",
      "   macro avg       0.94      0.93      0.93       999\n",
      "weighted avg       0.94      0.93      0.93       999\n",
      "\n"
     ]
    }
   ],
   "source": [
    "# check the classification report\n",
    "cr = classification_report(y, y_pred)\n",
    "print('Classification Report:')\n",
    "print(cr)"
   ]
  },
  {
   "cell_type": "code",
   "execution_count": 23,
   "metadata": {},
   "outputs": [
    {
     "name": "stdout",
     "output_type": "stream",
     "text": [
      "R-Squared Value: 0.72\n"
     ]
    }
   ],
   "source": [
    "# calculate the R-squared value\n",
    "r2 = r2_score(y, y_pred)\n",
    "print(f'R-Squared Value: {r2:.2f}')"
   ]
  },
  {
   "cell_type": "code",
   "execution_count": null,
   "metadata": {},
   "outputs": [],
   "source": [
    "from itertools import chain, combinations\n",
    "\n",
    "def powerset(iterable):\n",
    "    \"powerset([1,2,3]) --> () (1,) (2,) (3,) (1,2) (1,3) (2,3) (1,2,3)\"\n",
    "    s = list(iterable)\n",
    "    return chain.from_iterable(combinations(s, r) for r in range(len(s)+1))"
   ]
  }
 ],
 "metadata": {
  "kernelspec": {
   "display_name": "Python 3",
   "language": "python",
   "name": "python3"
  },
  "language_info": {
   "codemirror_mode": {
    "name": "ipython",
    "version": 3
   },
   "file_extension": ".py",
   "mimetype": "text/x-python",
   "name": "python",
   "nbconvert_exporter": "python",
   "pygments_lexer": "ipython3",
   "version": "3.10.4"
  },
  "orig_nbformat": 4,
  "vscode": {
   "interpreter": {
    "hash": "6847c98a8f86b01c6a19c518cd2f366693b80566b266804d5ca763cbb223f52b"
   }
  }
 },
 "nbformat": 4,
 "nbformat_minor": 2
}
