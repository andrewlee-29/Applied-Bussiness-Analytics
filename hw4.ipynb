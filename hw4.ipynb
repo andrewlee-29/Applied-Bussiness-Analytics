{
 "cells": [
  {
   "attachments": {},
   "cell_type": "markdown",
   "metadata": {},
   "source": [
    "# HW_04 by Andrew Lee"
   ]
  },
  {
   "attachments": {},
   "cell_type": "markdown",
   "metadata": {},
   "source": [
    "Import data"
   ]
  },
  {
   "cell_type": "code",
   "execution_count": 2,
   "metadata": {},
   "outputs": [
    {
     "name": "stdout",
     "output_type": "stream",
     "text": [
      "   emp_id  prev_month_sales  employee_age  sales_training  employment_tenure  \\\n",
      "0       1               105            35               2                 13   \n",
      "1       2                18            29               1                  1   \n",
      "2       3                82            35               2                 14   \n",
      "\n",
      "   conversion  compensation_plan  num_calls  \n",
      "0    1.418445                  0         26  \n",
      "1    0.029898                  0         10  \n",
      "2    0.468384                  0         10  \n"
     ]
    }
   ],
   "source": [
    "import pandas as pd\n",
    "\n",
    "# import data from csv\n",
    "\n",
    "df = pd.read_csv('./wentworth_applied_analytics - levers.csv.csv')\n",
    "\n",
    "print(df.head(3))"
   ]
  },
  {
   "attachments": {},
   "cell_type": "markdown",
   "metadata": {},
   "source": [
    "### As a call center sales business your goal is to optimize sales (revenue, $). Using previous months sales as a dependent variable (outcome variable), explore all possible combinations of independent variables to try to achieve the highest coefficient of determination (r^2, highest predictive ability against your dependent). Please make sure you test all of the fundamental assumptions and report any issues."
   ]
  },
  {
   "cell_type": "code",
   "execution_count": 3,
   "metadata": {},
   "outputs": [
    {
     "name": "stdout",
     "output_type": "stream",
     "text": [
      "Index(['emp_id', 'prev_month_sales', 'employee_age', 'sales_training',\n",
      "       'employment_tenure', 'conversion', 'compensation_plan', 'num_calls'],\n",
      "      dtype='object')\n"
     ]
    }
   ],
   "source": [
    "print(df.columns)"
   ]
  },
  {
   "attachments": {},
   "cell_type": "markdown",
   "metadata": {},
   "source": [
    "There are 8 features in the dataset and we can ignore the id column.\n",
    "Dependent variable: prev_month_sales\n",
    "Independent variable: employee_age, sales_training, employment_tenure, conversion, compensation_plan, num_calls. "
   ]
  },
  {
   "cell_type": "markdown",
   "metadata": {},
   "source": [
    "Preparing Dataset"
   ]
  },
  {
   "cell_type": "code",
   "execution_count": 4,
   "metadata": {},
   "outputs": [],
   "source": [
    "X = df[['employee_age', 'sales_training','employment_tenure', 'conversion', 'compensation_plan', 'num_calls']]\n",
    "Y = df['prev_month_sales']"
   ]
  },
  {
   "attachments": {},
   "cell_type": "markdown",
   "metadata": {},
   "source": [
    "## Data Pre-analytics"
   ]
  },
  {
   "cell_type": "code",
   "execution_count": 19,
   "metadata": {},
   "outputs": [
    {
     "name": "stdout",
     "output_type": "stream",
     "text": [
      "Fig1 . Scatter plots for sales_training,employment_tenure,conversion,num_calls vs sales\n"
     ]
    },
    {
     "data": {
      "image/png": "[encoded data removed]",
      "text/plain": [
       "<Figure size 432x288 with 6 Axes>"
      ]
     },
     "metadata": {
      "needs_background": "light"
     },
     "output_type": "display_data"
    }
   ],
   "source": [
    "import matplotlib.pyplot as plt\n",
    "print(\"Fig1 . Scatter plots for sales_training,employment_tenure,conversion,num_calls vs sales\")\n",
    "fig, axs = plt.subplots(3, 2)\n",
    "# Create the scatter plot\n",
    "axs[0, 0].scatter(df[['sales_training']], Y)\n",
    "axs[0, 0].set_title(\"sales_training vs sales \")\n",
    "axs[0, 1].scatter(df[['employment_tenure']], Y)\n",
    "axs[0, 1].set_title(\"employment_tenure vs sales \")\n",
    "axs[1, 0].scatter(df[['conversion']], Y)\n",
    "axs[1, 0].set_title(\"conversion vs sales \")\n",
    "axs[1, 1].scatter(df[['num_calls']], Y)\n",
    "axs[1, 1].set_title(\"num_calls vs sales \")\n",
    "axs[2, 0].scatter(df[['employee_age']], Y)\n",
    "axs[2, 0].set_title(\"employee_age vs sales \")\n",
    "axs[2, 1].scatter(df[['compensation_plan']], Y)\n",
    "axs[2, 1].set_title(\"compensation_plan vs sales \")\n",
    "for ax in axs.flat:\n",
    "    ax.label_outer()\n",
    "# Show the plot\n",
    "plt.show()\n"
   ]
  },
  {
   "attachments": {},
   "cell_type": "markdown",
   "metadata": {},
   "source": [
    "When we look at Fig 2, we can see all the features are not linear with the sale result and it shows it is difficult to get a good prediction from single feature linear regression. However, the employment tenure and conversion features both have hidden positive shapes. They may provide a good effect on multiple linear regression. About other features,the sales training, compensation plan and the number of calls features don't have a clear trend. The employee age feature has a lot of outler on the middle of the dataset. We can assume they have less effect on the prediction."
   ]
  },
  {
   "attachments": {},
   "cell_type": "markdown",
   "metadata": {},
   "source": [
    "Built powerset function to loop all possible independent variables"
   ]
  },
  {
   "cell_type": "code",
   "execution_count": 20,
   "metadata": {},
   "outputs": [
    {
     "name": "stdout",
     "output_type": "stream",
     "text": [
      "Fig2. top 5 features with the largest r2\n"
     ]
    },
    {
     "data": {
      "text/html": [
       "<div>\n",
       "<style scoped>\n",
       "    .dataframe tbody tr th:only-of-type {\n",
       "        vertical-align: middle;\n",
       "    }\n",
       "\n",
       "    .dataframe tbody tr th {\n",
       "        vertical-align: top;\n",
       "    }\n",
       "\n",
       "    .dataframe thead th {\n",
       "        text-align: right;\n",
       "    }\n",
       "</style>\n",
       "<table border=\"1\" class=\"dataframe\">\n",
       "  <thead>\n",
       "    <tr style=\"text-align: right;\">\n",
       "      <th></th>\n",
       "      <th>features</th>\n",
       "      <th>r2</th>\n",
       "      <th>mse</th>\n",
       "      <th>nFeatures</th>\n",
       "    </tr>\n",
       "  </thead>\n",
       "  <tbody>\n",
       "    <tr>\n",
       "      <th>0</th>\n",
       "      <td>sales_training,employment_tenure,conversion,nu...</td>\n",
       "      <td>0.756</td>\n",
       "      <td>262.358</td>\n",
       "      <td>4.0</td>\n",
       "    </tr>\n",
       "    <tr>\n",
       "      <th>0</th>\n",
       "      <td>sales_training,employment_tenure,conversion</td>\n",
       "      <td>0.729</td>\n",
       "      <td>292.188</td>\n",
       "      <td>3.0</td>\n",
       "    </tr>\n",
       "    <tr>\n",
       "      <th>0</th>\n",
       "      <td>employment_tenure,conversion,num_calls</td>\n",
       "      <td>0.696</td>\n",
       "      <td>327.09</td>\n",
       "      <td>3.0</td>\n",
       "    </tr>\n",
       "    <tr>\n",
       "      <th>0</th>\n",
       "      <td>employment_tenure,conversion</td>\n",
       "      <td>0.666</td>\n",
       "      <td>359.058</td>\n",
       "      <td>2.0</td>\n",
       "    </tr>\n",
       "    <tr>\n",
       "      <th>0</th>\n",
       "      <td>sales_training,employment_tenure</td>\n",
       "      <td>0.59</td>\n",
       "      <td>441.661</td>\n",
       "      <td>2.0</td>\n",
       "    </tr>\n",
       "  </tbody>\n",
       "</table>\n",
       "</div>"
      ],
      "text/plain": [
       "                                            features     r2      mse  \\\n",
       "0  sales_training,employment_tenure,conversion,nu...  0.756  262.358   \n",
       "0        sales_training,employment_tenure,conversion  0.729  292.188   \n",
       "0             employment_tenure,conversion,num_calls  0.696   327.09   \n",
       "0                       employment_tenure,conversion  0.666  359.058   \n",
       "0                   sales_training,employment_tenure   0.59  441.661   \n",
       "\n",
       "   nFeatures  \n",
       "0        4.0  \n",
       "0        3.0  \n",
       "0        3.0  \n",
       "0        2.0  \n",
       "0        2.0  "
      ]
     },
     "execution_count": 20,
     "metadata": {},
     "output_type": "execute_result"
    }
   ],
   "source": [
    "# powerset function to get all possible combination \n",
    "from itertools import chain, combinations\n",
    "from sklearn.model_selection import train_test_split\n",
    "from sklearn.linear_model import LinearRegression\n",
    "from sklearn.metrics import mean_squared_error, r2_score\n",
    "\n",
    "def powerset(iterable):\n",
    "    \"powerset([1,2,3]) --> () (1,) (2,) (3,) (1,2) (1,3) (2,3) (1,2,3)\"\n",
    "    s = list(iterable)\n",
    "    return chain.from_iterable(combinations(s, r) for r in range(len(s)+1))\n",
    "\n",
    "Results = pd.DataFrame([], columns=[\"features\",\"r2\",\"mse\"])\n",
    "for subset in powerset(X.columns):\n",
    "    if len(subset) > 0:\n",
    "        X =df[list(subset)]\n",
    "        #split dataset\n",
    "        X_train, X_test, Y_train, Y_test = train_test_split(X, Y, test_size=0.2,random_state=5)\n",
    "        #build model\n",
    "        model = LinearRegression()\n",
    "        model.fit(X_train,Y_train)\n",
    "        predictions = model.predict(X_test)\n",
    "        mse = mean_squared_error(Y_test, predictions)\n",
    "        r2 = r2_score(Y_test, predictions)\n",
    "        newResult = pd.DataFrame([{'features': ','.join(list(subset)), 'mse': round(mse,3), 'r2': round(r2,3), 'nFeatures':len(list(subset))}], columns=[\"features\",\"r2\",\"mse\",\"nFeatures\"])\n",
    "        Results= pd.concat([Results,newResult])\n",
    "print(\"Fig2. top 5 features with the largest r2\")\n",
    "Results.sort_values(by=\"r2\",ascending=False).head(5)"
   ]
  },
  {
   "cell_type": "code",
   "execution_count": 6,
   "metadata": {},
   "outputs": [
    {
     "name": "stdout",
     "output_type": "stream",
     "text": [
      "features with biggest r2\n",
      "sales_training,employment_tenure,conversion,num_calls\n"
     ]
    }
   ],
   "source": [
    "print(\"features with biggest r2\")\n",
    "print(Results[Results[\"nFeatures\"]==4].max()[\"features\"])"
   ]
  },
  {
   "attachments": {},
   "cell_type": "markdown",
   "metadata": {},
   "source": [
    "In the top 5 features with largest r2 table, we can see there is a model that has 0.756 r-squared score and with 4 features (sales training,employment tenure, conversion, and number of calls)."
   ]
  },
  {
   "attachments": {},
   "cell_type": "markdown",
   "metadata": {},
   "source": [
    "### Result Analytics"
   ]
  },
  {
   "attachments": {},
   "cell_type": "markdown",
   "metadata": {},
   "source": [
    "Load model with biggest r2"
   ]
  },
  {
   "cell_type": "code",
   "execution_count": 21,
   "metadata": {},
   "outputs": [],
   "source": [
    "X = df[['sales_training','employment_tenure','conversion','num_calls']]\n",
    "Y = df['prev_month_sales']\n",
    "#split dataset\n",
    "X_train, X_test, Y_train, Y_test = train_test_split(X, Y, test_size=0.2,random_state=5)\n",
    "        #build model\n",
    "model = LinearRegression()\n",
    "model.fit(X_train,Y_train)\n",
    "predictions = model.predict(X_test)"
   ]
  },
  {
   "cell_type": "code",
   "execution_count": 22,
   "metadata": {},
   "outputs": [
    {
     "data": {
      "image/png": "[encoded data removed]",
      "text/plain": [
       "<Figure size 432x288 with 1 Axes>"
      ]
     },
     "metadata": {
      "needs_background": "light"
     },
     "output_type": "display_data"
    }
   ],
   "source": [
    "import seaborn as sns\n",
    "import matplotlib.pyplot as plt\n",
    "import scipy.stats as stats\n",
    "# Make predictions and calculate residuals\n",
    "residuals = Y_test - predictions\n",
    "X_test\n",
    "\n",
    "# Plot the residuals\n",
    "stats.probplot(residuals, plot=plt)\n",
    "plt.title(\"Fig 3. Probability Plot (vistors vs installation)\")\n",
    "plt.show()"
   ]
  },
  {
   "attachments": {},
   "cell_type": "markdown",
   "metadata": {},
   "source": [
    "In Fig. 3 most of the predicted result are close to the line in the probability plot. Although the right tail of the data are off the line, but we could still say this is normality since the dataset is small."
   ]
  },
  {
   "cell_type": "code",
   "execution_count": null,
   "metadata": {},
   "outputs": [],
   "source": []
  },
  {
   "attachments": {},
   "cell_type": "markdown",
   "metadata": {},
   "source": [
    "In conclusion, the highest coefficient of determateration are sales training,employment tenure, conversion, and number of calls and provides around 0.756 r2 score. It seems "
   ]
  }
 ],
 "metadata": {
  "kernelspec": {
   "display_name": "Python 3",
   "language": "python",
   "name": "python3"
  },
  "language_info": {
   "codemirror_mode": {
    "name": "ipython",
    "version": 3
   },
   "file_extension": ".py",
   "mimetype": "text/x-python",
   "name": "python",
   "nbconvert_exporter": "python",
   "pygments_lexer": "ipython3",
   "version": "3.10.4"
  },
  "orig_nbformat": 4,
  "vscode": {
   "interpreter": {
    "hash": "6847c98a8f86b01c6a19c518cd2f366693b80566b266804d5ca763cbb223f52b"
   }
  }
 },
 "nbformat": 4,
 "nbformat_minor": 2
}
