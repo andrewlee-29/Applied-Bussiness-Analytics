{
 "cells": [
  {
   "attachments": {},
   "cell_type": "markdown",
   "metadata": {},
   "source": [
    "The dataset describes the wine cellar of a prestigious wine collector in the greater Boston metropolitan area. The collector would like your analysis of their collection (the data) through the lens of descriptive statistics.\n",
    "\n",
    "Data analysis has become an increasingly important tool in the wine industry in recent years. Here are a few ways in which the wine industry has used data analysis:\n",
    "\n",
    "Quality control: Winemakers can use data analysis to track the quality of their wines over time and identify any issues that may arise during the production process. This can help them improve the quality of their wines and ensure consistency from batch to batch.\n",
    "\n",
    "Marketing and sales: Wineries can use data analysis to better understand their target market and identify trends in consumer behavior. This can help them optimize their marketing and sales strategies and target their efforts more effectively.\n",
    "\n",
    "Supply chain management: Data analysis can help wineries optimize their supply chain by identifying bottlenecks and inefficiencies, and by forecasting demand more accurately.\n",
    "\n",
    "Vineyard management: Wineries can use data analysis to optimize their vineyard management practices by analyzing factors such as soil quality, weather conditions, and pest and disease control.\n",
    "\n",
    "Wine pairing: Data analysis can be used to identify patterns and trends in the flavors and characteristics of different wines, which can help restaurants and other wine sellers make more informed recommendations to their customers.\n"
   ]
  },
  {
   "cell_type": "code",
   "execution_count": 2,
   "metadata": {},
   "outputs": [],
   "source": [
    "# import data from csv\n",
    "import pandas as pd\n",
    "df = pd.read_csv('wine.csv')\n",
    "\n",
    "print(df) "
   ]
  },
  {
   "cell_type": "markdown",
   "metadata": {},
   "source": []
  },
  {
   "cell_type": "code",
   "execution_count": null,
   "metadata": {},
   "outputs": [],
   "source": []
  }
 ],
 "metadata": {
  "kernelspec": {
   "display_name": "Python 3",
   "language": "python",
   "name": "python3"
  },
  "language_info": {
   "codemirror_mode": {
    "name": "ipython",
    "version": 3
   },
   "file_extension": ".py",
   "mimetype": "text/x-python",
   "name": "python",
   "nbconvert_exporter": "python",
   "pygments_lexer": "ipython3",
   "version": "3.10.4"
  },
  "orig_nbformat": 4,
  "vscode": {
   "interpreter": {
    "hash": "6847c98a8f86b01c6a19c518cd2f366693b80566b266804d5ca763cbb223f52b"
   }
  }
 },
 "nbformat": 4,
 "nbformat_minor": 2
}
